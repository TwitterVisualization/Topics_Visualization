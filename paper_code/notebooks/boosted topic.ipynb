{
 "cells": [
  {
   "cell_type": "markdown",
   "id": "difficult-allergy",
   "metadata": {},
   "source": [
    "## Topics Recomposer"
   ]
  },
  {
   "cell_type": "code",
   "execution_count": 1,
   "id": "noticed-exception",
   "metadata": {},
   "outputs": [],
   "source": [
    "import pickle as pkl\n",
    "import numpy as np"
   ]
  },
  {
   "cell_type": "code",
   "execution_count": 8,
   "id": "incredible-budget",
   "metadata": {},
   "outputs": [],
   "source": [
    "topics = pkl.load(open(\"/scratch/hartley/twitter_covid_insights/insights_All/topics_700_occ400.pkl\", 'rb'))\n",
    "old_topics = pkl.load(open('/scratch/massemin/twitter_covid_insights_v3/insights_All/topics.pkl', 'rb'))\n",
    "new_hashes = set([x for topic_nb in topics[0].keys() for x in topics[0][topic_nb]])\n",
    "recomposed_path = \"/scratch/hartley/twitter_covid_insights/insights_All/recomposed_topics.pkl\"\n",
    "\n",
    "# Look for overlap with current topics, add if none\n",
    "to_add = []\n",
    "for t in old_topics[0] :\n",
    "    found = False\n",
    "    for h in old_topics[0][t] :\n",
    "        if h in new_hashes :\n",
    "            found=True\n",
    "    if not found :\n",
    "        to_add.append(t)\n",
    "\n",
    "t_mapping = dict(zip(to_add, np.arange(len(to_add))+len(topics[0])))\n",
    "recomposed_topics = dict(topics[0])\n",
    "\n",
    "# Add old topics\n",
    "for m in t_mapping :\n",
    "    recomposed_topics[t_mapping[m]] = old_topics[0][m]\n",
    "    \n",
    "recomposed_topics = (recomposed_topics, topics[1])\n",
    "pkl.dump(recomposed_topics, open(recomposed_path, 'wb'), protocol=4)"
   ]
  },
  {
   "cell_type": "markdown",
   "id": "previous-following",
   "metadata": {},
   "source": [
    "## Merge Country files"
   ]
  },
  {
   "cell_type": "code",
   "execution_count": 117,
   "id": "committed-cloud",
   "metadata": {},
   "outputs": [
    {
     "name": "stdout",
     "output_type": "stream",
     "text": [
      "\u001b[0m\u001b[01;34m__MACOSX\u001b[0m/                  final_data.csv                 \u001b[01;34mvaccinations\u001b[0m/\r\n",
      "\u001b[01;34mcountries\u001b[0m/                 final_data_generator.ipynb     vaccinations.csv\r\n",
      "economic_df_builder.ipynb  \u001b[01;34mswissre\u001b[0m/                       \u001b[01;34mweather\u001b[0m/\r\n",
      "economic_weighted.csv      unemp_daily_with_forecast.csv\r\n",
      "economic_weighted_2.csv    vaccination_percentages.csv\r\n"
     ]
    }
   ],
   "source": [
    "import pycountry"
   ]
  },
  {
   "cell_type": "code",
   "execution_count": 200,
   "id": "backed-publicity",
   "metadata": {},
   "outputs": [
    {
     "name": "stderr",
     "output_type": "stream",
     "text": [
      "/scratch/hartley/rapids-21.10/lib/python3.7/site-packages/IPython/core/interactiveshell.py:3444: DtypeWarning: Columns (68,69) have mixed types.Specify dtype option on import or set low_memory=False.\n",
      "  exec(code_obj, self.user_global_ns, self.user_ns)\n"
     ]
    }
   ],
   "source": [
    "d = pd.read_csv('/scratch/hartley/WhatIf/daily_country_data.csv')"
   ]
  },
  {
   "cell_type": "code",
   "execution_count": 201,
   "id": "located-turkey",
   "metadata": {
    "collapsed": true
   },
   "outputs": [
    {
     "data": {
      "text/plain": [
       "Index(['country_id', 'date', 'name', 'cases', 'deaths', 'recovered',\n",
       "       'new_cases', 'new_deaths', 'total_population_all',\n",
       "       'total_population_below_1', 'total_population_1_to_4',\n",
       "       'total_population_5_to_14', 'total_population_15_to_24',\n",
       "       'total_population_25_to_34', 'total_population_35_to_54',\n",
       "       'total_population_55_to_74', 'total_population_above_75',\n",
       "       'population_percentage_over_60', 'hospital_beds_per_1000',\n",
       "       'physicians_per_1000', 'nurses_per_1000', 'fatality_rate_percent',\n",
       "       'cases_per_100000', 'deaths_per_100000', 'cases_per_1000_hospital_beds',\n",
       "       'deaths_per_1000_hospital_beds', 'cases_per_1000_nurses',\n",
       "       'deaths_per_1000_nurses', 'cases_per_1000_physicians',\n",
       "       'deaths_per_1000_physicians', 'days_since_outbreak',\n",
       "       'new_cases_percent_increase', 'avg_3d_new_cases_percent_increase',\n",
       "       'unemployment_rate_2019_03_31', 'unemployment_rate_2019_06_30',\n",
       "       'unemployment_rate_2019_09_30', 'unemployment_rate_2019_12_31',\n",
       "       'unemployment_rate_2020_03_31', 'unemployment_rate_2020_06_30',\n",
       "       'unemployment_rate_2020_09_30', 'unemployment_rate_2020_12_31',\n",
       "       'unemployment_rate_2021_03_31', 'unemployment_rate_2021_06_30',\n",
       "       'unemployment_rate_2021_09_30', 'unemployment_rate_2021_12_31',\n",
       "       'gdp_2019_03_31', 'gdp_2019_06_30', 'gdp_2019_09_30', 'gdp_2019_12_31',\n",
       "       'gdp_2020_03_31', 'gdp_2020_06_30', 'gdp_2020_09_30', 'gdp_2020_12_31',\n",
       "       'gdp_2021_03_31', 'gdp_2021_06_30', 'gdp_2021_09_30', 'gdp_2021_12_31',\n",
       "       'mobility_google_retail_and_recreation',\n",
       "       'mobility_google_grocery_and_pharmacy',\n",
       "       'mobility_google_transit_stations', 'mobility_google_workplace',\n",
       "       'mobility_google_residential', 'mobility_google_index',\n",
       "       'mobility_google_retail_and_recreation_7d_avg',\n",
       "       'mobility_google_grocery_and_pharmacy_7d_avg',\n",
       "       'mobility_google_transit_stations_7d_avg',\n",
       "       'mobility_google_workplace_7d_avg',\n",
       "       'mobility_google_residential_7d_avg',\n",
       "       'covid19_reopen_criteria_14_day_new_cases_downward_trajectory',\n",
       "       'covid19_reopen_criteria_14_day_decreasing_deaths',\n",
       "       'has_implemented_introduction_of_quarantine_policies',\n",
       "       'has_implemented_public_services_closure',\n",
       "       'has_implemented_economic_measures',\n",
       "       'has_implemented_flights_suspension', 'has_implemented_schools_closure',\n",
       "       'has_implemented_border_closure',\n",
       "       'has_implemented_state_of_emergency_declared',\n",
       "       'has_implemented_general_lockdown',\n",
       "       'has_implemented_travel_restrictions', 'tests', 'tests_per_100000',\n",
       "       'new_cases_rolling_average_3', 'new_cases_rolling_average_7',\n",
       "       'new_cases_rolling_average_21', 'new_deaths_rolling_average_3',\n",
       "       'new_deaths_rolling_average_7', 'new_deaths_rolling_average_21',\n",
       "       'stage_number', 'epiforecasts_effective_reproduction_number_median',\n",
       "       'epiforecasts_effective_reproduction_number_lower_90',\n",
       "       'epiforecasts_effective_reproduction_number_upper_90',\n",
       "       'epiforecasts_effective_reproduction_number_lower_50',\n",
       "       'epiforecasts_effective_reproduction_number_upper_50',\n",
       "       'travel_risk_score', 'new_cases_per_100000',\n",
       "       'avg_7d_new_cases_per_100k', 'iso_code', 'r_estim'],\n",
       "      dtype='object')"
      ]
     },
     "execution_count": 201,
     "metadata": {},
     "output_type": "execute_result"
    }
   ],
   "source": [
    "d.columns"
   ]
  },
  {
   "cell_type": "code",
   "execution_count": null,
   "id": "convenient-bouquet",
   "metadata": {},
   "outputs": [],
   "source": [
    "pkl.load(open())"
   ]
  },
  {
   "cell_type": "code",
   "execution_count": 195,
   "id": "pregnant-stage",
   "metadata": {},
   "outputs": [],
   "source": [
    "# Load epi data\n",
    "columns=['country_id', 'date', 'cases', 'deaths', 'recovered', 'new_cases', 'mobility_google_index', 'tests']\n",
    "new_countries = pd.read_csv('/scratch/hartley/WhatIf/daily_country_data.csv', usecols=columns)\n",
    "new_countries = new_countries[~new_countries.country_id.isna()]\n",
    "\n",
    "# Load vaccine data\n",
    "cols = ['iso_code', 'date', 'people_vaccinated', 'daily_vaccinations']\n",
    "new_vaccines = pd.read_csv('/scratch/hartley/WhatIf/vaccinations.csv', usecols=cols)\n",
    "\n",
    "# Merge both db\n",
    "new_countries['iso_code'] = new_countries.country_id.apply(lambda n : pycountry.countries.get(alpha_2=n).alpha_3)\n",
    "merged = pd.merge(left=new_countries, right=new_vaccines, how='outer',on=['iso_code', 'date']).drop('country_id', axis=1)\n",
    "merged = merged[merged.date <= '2021-09-30']\n",
    "\n",
    "merged.to_csv('/scratch/hartley/WhatIf/final_epi_file.csv')"
   ]
  },
  {
   "cell_type": "code",
   "execution_count": 197,
   "id": "instrumental-delicious",
   "metadata": {},
   "outputs": [
    {
     "data": {
      "text/html": [
       "<div>\n",
       "<style scoped>\n",
       "    .dataframe tbody tr th:only-of-type {\n",
       "        vertical-align: middle;\n",
       "    }\n",
       "\n",
       "    .dataframe tbody tr th {\n",
       "        vertical-align: top;\n",
       "    }\n",
       "\n",
       "    .dataframe thead th {\n",
       "        text-align: right;\n",
       "    }\n",
       "</style>\n",
       "<table border=\"1\" class=\"dataframe\">\n",
       "  <thead>\n",
       "    <tr style=\"text-align: right;\">\n",
       "      <th></th>\n",
       "      <th>date</th>\n",
       "      <th>cases</th>\n",
       "      <th>deaths</th>\n",
       "      <th>recovered</th>\n",
       "      <th>new_cases</th>\n",
       "      <th>mobility_google_index</th>\n",
       "      <th>tests</th>\n",
       "      <th>iso_code</th>\n",
       "      <th>people_vaccinated</th>\n",
       "      <th>daily_vaccinations</th>\n",
       "    </tr>\n",
       "  </thead>\n",
       "  <tbody>\n",
       "    <tr>\n",
       "      <th>0</th>\n",
       "      <td>2020-02-03</td>\n",
       "      <td>1.0</td>\n",
       "      <td>0.0</td>\n",
       "      <td>1.0</td>\n",
       "      <td>1.0</td>\n",
       "      <td>NaN</td>\n",
       "      <td>NaN</td>\n",
       "      <td>BEL</td>\n",
       "      <td>NaN</td>\n",
       "      <td>NaN</td>\n",
       "    </tr>\n",
       "    <tr>\n",
       "      <th>1</th>\n",
       "      <td>2020-02-04</td>\n",
       "      <td>1.0</td>\n",
       "      <td>0.0</td>\n",
       "      <td>1.0</td>\n",
       "      <td>0.0</td>\n",
       "      <td>NaN</td>\n",
       "      <td>NaN</td>\n",
       "      <td>BEL</td>\n",
       "      <td>NaN</td>\n",
       "      <td>NaN</td>\n",
       "    </tr>\n",
       "    <tr>\n",
       "      <th>2</th>\n",
       "      <td>2020-02-05</td>\n",
       "      <td>1.0</td>\n",
       "      <td>0.0</td>\n",
       "      <td>1.0</td>\n",
       "      <td>0.0</td>\n",
       "      <td>NaN</td>\n",
       "      <td>NaN</td>\n",
       "      <td>BEL</td>\n",
       "      <td>NaN</td>\n",
       "      <td>NaN</td>\n",
       "    </tr>\n",
       "    <tr>\n",
       "      <th>3</th>\n",
       "      <td>2020-02-06</td>\n",
       "      <td>1.0</td>\n",
       "      <td>0.0</td>\n",
       "      <td>1.0</td>\n",
       "      <td>0.0</td>\n",
       "      <td>NaN</td>\n",
       "      <td>NaN</td>\n",
       "      <td>BEL</td>\n",
       "      <td>NaN</td>\n",
       "      <td>NaN</td>\n",
       "    </tr>\n",
       "    <tr>\n",
       "      <th>4</th>\n",
       "      <td>2020-02-07</td>\n",
       "      <td>1.0</td>\n",
       "      <td>0.0</td>\n",
       "      <td>1.0</td>\n",
       "      <td>0.0</td>\n",
       "      <td>NaN</td>\n",
       "      <td>NaN</td>\n",
       "      <td>BEL</td>\n",
       "      <td>NaN</td>\n",
       "      <td>NaN</td>\n",
       "    </tr>\n",
       "    <tr>\n",
       "      <th>...</th>\n",
       "      <td>...</td>\n",
       "      <td>...</td>\n",
       "      <td>...</td>\n",
       "      <td>...</td>\n",
       "      <td>...</td>\n",
       "      <td>...</td>\n",
       "      <td>...</td>\n",
       "      <td>...</td>\n",
       "      <td>...</td>\n",
       "      <td>...</td>\n",
       "    </tr>\n",
       "    <tr>\n",
       "      <th>134015</th>\n",
       "      <td>2021-09-26</td>\n",
       "      <td>NaN</td>\n",
       "      <td>NaN</td>\n",
       "      <td>NaN</td>\n",
       "      <td>NaN</td>\n",
       "      <td>NaN</td>\n",
       "      <td>NaN</td>\n",
       "      <td>ZWE</td>\n",
       "      <td>3036623.0</td>\n",
       "      <td>31405.0</td>\n",
       "    </tr>\n",
       "    <tr>\n",
       "      <th>134016</th>\n",
       "      <td>2021-09-27</td>\n",
       "      <td>NaN</td>\n",
       "      <td>NaN</td>\n",
       "      <td>NaN</td>\n",
       "      <td>NaN</td>\n",
       "      <td>NaN</td>\n",
       "      <td>NaN</td>\n",
       "      <td>ZWE</td>\n",
       "      <td>3050981.0</td>\n",
       "      <td>31282.0</td>\n",
       "    </tr>\n",
       "    <tr>\n",
       "      <th>134017</th>\n",
       "      <td>2021-09-28</td>\n",
       "      <td>NaN</td>\n",
       "      <td>NaN</td>\n",
       "      <td>NaN</td>\n",
       "      <td>NaN</td>\n",
       "      <td>NaN</td>\n",
       "      <td>NaN</td>\n",
       "      <td>ZWE</td>\n",
       "      <td>3060086.0</td>\n",
       "      <td>29469.0</td>\n",
       "    </tr>\n",
       "    <tr>\n",
       "      <th>134018</th>\n",
       "      <td>2021-09-29</td>\n",
       "      <td>NaN</td>\n",
       "      <td>NaN</td>\n",
       "      <td>NaN</td>\n",
       "      <td>NaN</td>\n",
       "      <td>NaN</td>\n",
       "      <td>NaN</td>\n",
       "      <td>ZWE</td>\n",
       "      <td>3071643.0</td>\n",
       "      <td>28149.0</td>\n",
       "    </tr>\n",
       "    <tr>\n",
       "      <th>134019</th>\n",
       "      <td>2021-09-30</td>\n",
       "      <td>NaN</td>\n",
       "      <td>NaN</td>\n",
       "      <td>NaN</td>\n",
       "      <td>NaN</td>\n",
       "      <td>NaN</td>\n",
       "      <td>NaN</td>\n",
       "      <td>ZWE</td>\n",
       "      <td>3083764.0</td>\n",
       "      <td>27045.0</td>\n",
       "    </tr>\n",
       "  </tbody>\n",
       "</table>\n",
       "<p>131130 rows × 10 columns</p>\n",
       "</div>"
      ],
      "text/plain": [
       "              date  cases  deaths  recovered  new_cases  \\\n",
       "0       2020-02-03    1.0     0.0        1.0        1.0   \n",
       "1       2020-02-04    1.0     0.0        1.0        0.0   \n",
       "2       2020-02-05    1.0     0.0        1.0        0.0   \n",
       "3       2020-02-06    1.0     0.0        1.0        0.0   \n",
       "4       2020-02-07    1.0     0.0        1.0        0.0   \n",
       "...            ...    ...     ...        ...        ...   \n",
       "134015  2021-09-26    NaN     NaN        NaN        NaN   \n",
       "134016  2021-09-27    NaN     NaN        NaN        NaN   \n",
       "134017  2021-09-28    NaN     NaN        NaN        NaN   \n",
       "134018  2021-09-29    NaN     NaN        NaN        NaN   \n",
       "134019  2021-09-30    NaN     NaN        NaN        NaN   \n",
       "\n",
       "        mobility_google_index  tests iso_code  people_vaccinated  \\\n",
       "0                         NaN    NaN      BEL                NaN   \n",
       "1                         NaN    NaN      BEL                NaN   \n",
       "2                         NaN    NaN      BEL                NaN   \n",
       "3                         NaN    NaN      BEL                NaN   \n",
       "4                         NaN    NaN      BEL                NaN   \n",
       "...                       ...    ...      ...                ...   \n",
       "134015                    NaN    NaN      ZWE          3036623.0   \n",
       "134016                    NaN    NaN      ZWE          3050981.0   \n",
       "134017                    NaN    NaN      ZWE          3060086.0   \n",
       "134018                    NaN    NaN      ZWE          3071643.0   \n",
       "134019                    NaN    NaN      ZWE          3083764.0   \n",
       "\n",
       "        daily_vaccinations  \n",
       "0                      NaN  \n",
       "1                      NaN  \n",
       "2                      NaN  \n",
       "3                      NaN  \n",
       "4                      NaN  \n",
       "...                    ...  \n",
       "134015             31405.0  \n",
       "134016             31282.0  \n",
       "134017             29469.0  \n",
       "134018             28149.0  \n",
       "134019             27045.0  \n",
       "\n",
       "[131130 rows x 10 columns]"
      ]
     },
     "execution_count": 197,
     "metadata": {},
     "output_type": "execute_result"
    }
   ],
   "source": [
    "merged"
   ]
  },
  {
   "cell_type": "code",
   "execution_count": 2,
   "id": "unsigned-fossil",
   "metadata": {},
   "outputs": [],
   "source": [
    "import cupy as cp\n",
    "from cuml.metrics import pairwise_distances"
   ]
  },
  {
   "cell_type": "code",
   "execution_count": 26,
   "id": "modular-fashion",
   "metadata": {},
   "outputs": [],
   "source": [
    "import numpy as np\n",
    "from tqdm import tqdm"
   ]
  },
  {
   "cell_type": "code",
   "execution_count": 28,
   "id": "alpine-teacher",
   "metadata": {},
   "outputs": [
    {
     "data": {
      "text/plain": [
       "array([3., 4.])"
      ]
     },
     "execution_count": 28,
     "metadata": {},
     "output_type": "execute_result"
    }
   ],
   "source": [
    "np.array([[1, 2], [3, 4], [5, 6]]).mean(axis=0)"
   ]
  },
  {
   "cell_type": "code",
   "execution_count": 35,
   "id": "working-charger",
   "metadata": {},
   "outputs": [
    {
     "name": "stderr",
     "output_type": "stream",
     "text": [
      "10it [00:01,  5.30it/s]\n"
     ]
    }
   ],
   "source": [
    "arr = np.arange(1000).reshape((200, 5)).astype(float)\n",
    "batch_nb = 20\n",
    "\n",
    "# Chunks to be computed\n",
    "splits = (list(np.arange(len(arr))) + [len(arr)])[::batch_nb]\n",
    "splits_tup = list(zip(splits, splits[1:]))\n",
    "\n",
    "\n",
    "for e, s in tqdm(enumerate(splits_tup)) :\n",
    "    sub = arr[s[0]:s[1]]\n",
    "    for i in sub :\n",
    "        X = cp.array(sub.transpose())        \n",
    "        dst = pairwise_distances(X, metric='euclidean')"
   ]
  },
  {
   "cell_type": "code",
   "execution_count": 38,
   "id": "planned-marine",
   "metadata": {},
   "outputs": [],
   "source": [
    "a = [[1, 2], [3, 4]]\n",
    "b = [[5, 2], [3, 4]]\n",
    "c = [[1, 2], [3, 8]]\n",
    "d = [[1, 2], [3, 20]]"
   ]
  },
  {
   "cell_type": "code",
   "execution_count": 43,
   "id": "sensitive-pitch",
   "metadata": {},
   "outputs": [
    {
     "data": {
      "text/plain": [
       "array([[ 1,  2,  1,  2],\n",
       "       [ 3,  4,  3,  8],\n",
       "       [ 5,  2,  1,  2],\n",
       "       [ 3,  4,  3, 20]])"
      ]
     },
     "execution_count": 43,
     "metadata": {},
     "output_type": "execute_result"
    }
   ],
   "source": [
    "np.hstack((np.vstack((a, b)), np.vstack((c, d))))"
   ]
  },
  {
   "cell_type": "code",
   "execution_count": 37,
   "id": "intimate-development",
   "metadata": {},
   "outputs": [
    {
     "data": {
      "text/plain": [
       "array([[ 0.        ,  4.47213595,  8.94427191, 13.41640786, 17.88854382],\n",
       "       [ 4.47213595,  0.        ,  4.47213595,  8.94427191, 13.41640786],\n",
       "       [ 8.94427191,  4.47213595,  0.        ,  4.47213595,  8.94427191],\n",
       "       [13.41640786,  8.94427191,  4.47213595,  0.        ,  4.47213595],\n",
       "       [17.88854382, 13.41640786,  8.94427191,  4.47213595,  0.        ]])"
      ]
     },
     "execution_count": 37,
     "metadata": {},
     "output_type": "execute_result"
    }
   ],
   "source": [
    "dst"
   ]
  },
  {
   "cell_type": "code",
   "execution_count": 21,
   "id": "secret-mistress",
   "metadata": {},
   "outputs": [
    {
     "data": {
      "text/plain": [
       "[0, 20, 40, 60, 80, 100, 120, 140, 160, 180, 200]"
      ]
     },
     "execution_count": 21,
     "metadata": {},
     "output_type": "execute_result"
    }
   ],
   "source": [
    "splits"
   ]
  },
  {
   "cell_type": "code",
   "execution_count": 22,
   "id": "growing-controversy",
   "metadata": {},
   "outputs": [
    {
     "data": {
      "text/plain": [
       "[(0, 20),\n",
       " (20, 40),\n",
       " (40, 60),\n",
       " (60, 80),\n",
       " (80, 100),\n",
       " (100, 120),\n",
       " (120, 140),\n",
       " (140, 160),\n",
       " (160, 180),\n",
       " (180, 200)]"
      ]
     },
     "execution_count": 22,
     "metadata": {},
     "output_type": "execute_result"
    }
   ],
   "source": [
    "splits_tup"
   ]
  },
  {
   "cell_type": "code",
   "execution_count": 39,
   "id": "latter-remains",
   "metadata": {},
   "outputs": [],
   "source": [
    "X = cp.array([[2.0, 3.0], [3.0, 5.0], [5.0, 8.0]])\n",
    "\n",
    "dst = pairwise_distances(X, metric='euclidean')"
   ]
  },
  {
   "cell_type": "code",
   "execution_count": 40,
   "id": "independent-approach",
   "metadata": {},
   "outputs": [
    {
     "data": {
      "text/plain": [
       "array([[ 1.        , -1.23606798, -4.83095189],\n",
       "       [-1.23606798,  1.        , -2.60555128],\n",
       "       [-4.83095189, -2.60555128,  1.        ]])"
      ]
     },
     "execution_count": 40,
     "metadata": {},
     "output_type": "execute_result"
    }
   ],
   "source": [
    "1 - dst"
   ]
  },
  {
   "cell_type": "code",
   "execution_count": 37,
   "id": "sacred-prevention",
   "metadata": {},
   "outputs": [
    {
     "data": {
      "text/plain": [
       "cupy._core.core.ndarray"
      ]
     },
     "execution_count": 37,
     "metadata": {},
     "output_type": "execute_result"
    }
   ],
   "source": [
    "type(1 - dst)"
   ]
  },
  {
   "cell_type": "code",
   "execution_count": 29,
   "id": "passive-fourth",
   "metadata": {},
   "outputs": [
    {
     "data": {
      "text/plain": [
       "array([[1.        , 0.96886393, 1.        ],\n",
       "       [0.96886393, 1.        , 0.96886393],\n",
       "       [1.        , 0.96886393, 1.        ]])"
      ]
     },
     "execution_count": 29,
     "metadata": {},
     "output_type": "execute_result"
    }
   ],
   "source": [
    "cosine_similarity([[1, 2, 3, 4], [5, 6, 7, 8], [1, 2, 3, 4]])"
   ]
  },
  {
   "cell_type": "code",
   "execution_count": 37,
   "id": "athletic-yorkshire",
   "metadata": {},
   "outputs": [],
   "source": [
    "import pickle as pkl"
   ]
  },
  {
   "cell_type": "code",
   "execution_count": 3,
   "id": "dominant-duration",
   "metadata": {},
   "outputs": [],
   "source": [
    "trends = pkl.load(open(\"/scratch/hartley/tweets_piped twitter_covid_insights/insights_All/trends_recomposed.pkl\", 'rb'))"
   ]
  },
  {
   "cell_type": "code",
   "execution_count": null,
   "id": "covered-forty",
   "metadata": {},
   "outputs": [],
   "source": [
    "tuple(topic_id -> array(occs), metatopic_id -> array(occ))"
   ]
  },
  {
   "cell_type": "code",
   "execution_count": 5,
   "id": "loving-midnight",
   "metadata": {},
   "outputs": [
    {
     "data": {
      "text/plain": [
       "72"
      ]
     },
     "execution_count": 5,
     "metadata": {},
     "output_type": "execute_result"
    }
   ],
   "source": [
    "trends[1].ke"
   ]
  },
  {
   "cell_type": "code",
   "execution_count": 38,
   "id": "latin-charity",
   "metadata": {},
   "outputs": [],
   "source": [
    "#topics_growth = pkl.load(open(\"/scratch/hartley/twitter_covid_insights/insights_All/topics_growth.pkl\", 'rb'))\n",
    "topics = pkl.load(open(\"/scratch/hartley/twitter_covid_insights/insights_All/topics_700_occ400.pkl\", 'rb'))"
   ]
  },
  {
   "cell_type": "code",
   "execution_count": null,
   "id": "forty-rugby",
   "metadata": {},
   "outputs": [],
   "source": [
    "mt_id -> list(topic_id)"
   ]
  },
  {
   "cell_type": "code",
   "execution_count": 6,
   "id": "crucial-hypothetical",
   "metadata": {},
   "outputs": [
    {
     "ename": "NameError",
     "evalue": "name 'topics' is not defined",
     "output_type": "error",
     "traceback": [
      "\u001b[0;31m---------------------------------------------------------------------------\u001b[0m",
      "\u001b[0;31mNameError\u001b[0m                                 Traceback (most recent call last)",
      "\u001b[0;32m<ipython-input-6-7713c28c16ac>\u001b[0m in \u001b[0;36m<module>\u001b[0;34m\u001b[0m\n\u001b[0;32m----> 1\u001b[0;31m \u001b[0mtopics\u001b[0m\u001b[0;34m[\u001b[0m\u001b[0;36m1\u001b[0m\u001b[0;34m]\u001b[0m\u001b[0;34m\u001b[0m\u001b[0;34m\u001b[0m\u001b[0m\n\u001b[0m",
      "\u001b[0;31mNameError\u001b[0m: name 'topics' is not defined"
     ]
    }
   ],
   "source": [
    "topics[1]"
   ]
  },
  {
   "cell_type": "code",
   "execution_count": 22,
   "id": "knowing-beatles",
   "metadata": {},
   "outputs": [],
   "source": [
    "d = pkl.load(open('/scratch/hartley/twitter_covid_insights/insights_All/s2v_dict.pkl', 'rb'))"
   ]
  },
  {
   "cell_type": "code",
   "execution_count": 24,
   "id": "medieval-mechanics",
   "metadata": {},
   "outputs": [
    {
     "data": {
      "text/plain": [
       "dict_keys(['#reconstruyamoslahipica', '#sbot'])"
      ]
     },
     "execution_count": 24,
     "metadata": {},
     "output_type": "execute_result"
    }
   ],
   "source": [
    "d.keys()"
   ]
  },
  {
   "cell_type": "code",
   "execution_count": 20,
   "id": "sized-parish",
   "metadata": {},
   "outputs": [
    {
     "data": {
      "text/plain": [
       "array([1., 2., 3., 4.])"
      ]
     },
     "execution_count": 20,
     "metadata": {},
     "output_type": "execute_result"
    }
   ],
   "source": [
    "import numpy as np\n",
    "np.array('1 2 3 4'.split(' ')).astype(float)"
   ]
  },
  {
   "cell_type": "code",
   "execution_count": 17,
   "id": "measured-headline",
   "metadata": {
    "scrolled": false
   },
   "outputs": [
    {
     "data": {
      "text/plain": [
       "{0: array(['#コロナに負けるな', '#おうち時間', '#ステイホーム', '#ダイエット', '#テイクアウト', '#外出自粛',\n",
       "        '#ランチ', '#筋トレ', '#居酒屋'], dtype='<U37'),\n",
       " 1: array(['#東京五輪の中止を求めます', '#自民党に殺される', '#東京五輪の開催中止を求めます', '#投票倍増委員会',\n",
       "        '#スガやめろ', '#五輪中止の決断を', '#スガ政権の退陣を求めます', '#五輪やってる場合じゃない',\n",
       "        '#もううんざりだよ自民党', '#オリンピックより命を守れ', '#菅やめろ', '#東京五輪の即時中止を求めます',\n",
       "        '#自民党に政権担当能力はありません', '#日本のコロナは自民党の人災', '#自民党政権が日本を滅ぼす',\n",
       "        '#小池百合子に殺される', '#選挙に行こう', '#自民党は全員落とす', '#こんなひどい政治は初めてだ', '#政権交代',\n",
       "        '#自民党の解党を求めます', '#五輪やめて命まもれ', '#自民党は利権と汚職と税金泥棒', '#大阪のコロナは維新の人災',\n",
       "        '#コロナ犠牲者激増はスガの人災', '#野党共闘で政権交代', '#自民党政治を終わらせよう',\n",
       "        '#自民党のしたこと絶対に忘れない', '#消費税廃止', '#菅政権の退陣を求めます', '#菅政権に殺される', '#菅辞めろ',\n",
       "        '#もういらないだろ自民党', '#菅義偉に殺される', '#維新に殺される', '#政権交代しかない',\n",
       "        '#小池百合子に騙されるな', '#維新はいらない', '#菅に殺される', '#自民公明維新には絶対投票しない',\n",
       "        '#維新は本当にいらない', '#自民党には投票しない'], dtype='<U37'),\n",
       " 2: array(['#hypocrisy', '#hypocrite', '#hypocrites', '#liar', '#traitor',\n",
       "        '#liars', '#traitors'], dtype='<U37'),\n",
       " 3: array(['#felizlunes', '#felizjueves', '#felizmiercoles', '#felizmartes',\n",
       "        '#felizdomingo', '#buenosdias', '#felizviernes', '#felizsabado',\n",
       "        '#felizviernesatodos', '#felizmartesatodos', '#buenosdiasatodos',\n",
       "        '#felizmiércoles', '#felizsábado'], dtype='<U37'),\n",
       " 4: array(['#trump', '#biden', '#america', '#donaldtrump', '#democrats',\n",
       "        '#joebiden', '#americans', '#potus', '#american', '#dems'],\n",
       "       dtype='<U37'),\n",
       " 5: array(['#maga', '#trump2020', '#plandemic', '#kag', '#scamdemic',\n",
       "        '#maga2020', '#wakeup', '#wakeupamerica', '#nwo', '#obamagate',\n",
       "        '#greatreset', '#covid1984', '#wethepeople', '#hoax', '#covidhoax',\n",
       "        '#nomasks', '#thegreatreset', '#democratsaredestroyingamerica',\n",
       "        '#deepstate', '#fakenewsmedia', '#openamericanow',\n",
       "        '#trump2020landslide', '#walkaway', '#fightback', '#event201',\n",
       "        '#newworldorder', '#tyranny', '#enemyofthepeople',\n",
       "        '#liberalismisamentaldisorder', '#scamdemic2020', '#truthmatters',\n",
       "        '#donotcomply', '#masksdontwork', '#voteredtosaveamerica',\n",
       "        '#trump2020nowmorethanever', '#stopthesteal', '#tds',\n",
       "        '#trump2020landslidevictory', '#fakepandemic', '#fearmongering',\n",
       "        '#sheeple', '#democratstheenemywithin',\n",
       "        '#voteredtosaveamerica2020', '#trump2020tosaveamerica',\n",
       "        '#openamerica', '#votered', '#walkawayfromdemocrats',\n",
       "        '#liberalismistherealpandemic', '#democratsarecorrupt',\n",
       "        '#covidscam', '#stopthesteai', '#iwillnotcomply', '#openupamerica',\n",
       "        '#trumpwon', '#electionfraud', '#msmistheenemyofthepeople',\n",
       "        '#scamdemic2021', '#covidlies', '#votered2020',\n",
       "        '#stopthesteai2020'], dtype='<U37'),\n",
       " 6: array(['#gop', '#republicans', '#republican', '#covidreliefbill',\n",
       "        '#covidreliefpackage', '#reliefbill'], dtype='<U37'),\n",
       " 7: array(['#オリンピック', '#東京五輪', '#東京オリンピック', '#パラリンピック', '#東京2020', '#五輪',\n",
       "        '#聖火リレー'], dtype='<U37'),\n",
       " 8: array(['#elpeorgobiernodelahistoria', '#yonomevacuno',\n",
       "        '#gobiernodeinutiles', '#gobiernocriminalycorrupto', '#contigochv',\n",
       "        '#elpeorpresidentedelahistoria', '#gobiernogenocida',\n",
       "        '#vacunagate', '#vacunatoriovip', '#vacunasvip',\n",
       "        '#gobiernodelamentira', '#vacunadosvip', '#gobiernodelamuerte',\n",
       "        '#serobaronlasvacunas', '#quesevayantodos',\n",
       "        '#peorgobiernodelahistoria', '#olivosgate'], dtype='<U37'),\n",
       " 9: array(['#coronawarriors', '#indiafightscoronavirus',\n",
       "        '#fightagainstcorona', '#covidwarriors',\n",
       "        '#fightagainstcoronavirus', '#fightagainstcovid19',\n",
       "        '#coronawarrior'], dtype='<U37'),\n",
       " 10: array(['#amlo', '#niunvotoamorena2021', '#4t', '#elcacas',\n",
       "        '#doctormuerte', '#drmuerte', '#amlofracasopresidencial',\n",
       "        '#amloelfracasopresidencial', '#amlolujodepresidente',\n",
       "        '#lopezelpeorpresidentedelmundo', '#lopezmexicoterepudia',\n",
       "        '#niunvotoamorena2021yaliados', '#morenalapandemiademexico',\n",
       "        '#niunvotoamorena', '#lopezcorruptoinepto', '#donpendejo'],\n",
       "       dtype='<U37'),\n",
       " 11: array(['#オンライン授業', '#吉村知事', '#緊急事態宣言反対', '#コロナを指定感染症2類から5類へ', '#目覚めろ日本人',\n",
       "        '#登校選択制', '#pcr検査の拡充を求めます'], dtype='<U37'),\n",
       " 12: array(['#indiafightscorona', '#unite2fightcorona', '#largestvaccinedrive',\n",
       "        '#covid19vaccination', '#vaccinationdrive', '#odishafightscorona',\n",
       "        '#largestvaccinationdrive', '#vaccineforall', '#janandolan',\n",
       "        '#jansamparkmp', '#mpfightscorona', '#mpvaccinationmahaabhiyan',\n",
       "        '#tikautsav', '#mpvaccinationmahaabhiyan2', '#covishieldvaccine',\n",
       "        '#odishacares', '#vaccinationupdate', '#sabkovaccinemuftvaccine',\n",
       "        '#pibkochi', '#covidshield'], dtype='<U37'),\n",
       " 13: array(['#qanon', '#wwg1wga', '#thegreatawakening', '#q',\n",
       "        '#wwg1wgaworldwide', '#wwg1gwa'], dtype='<U37'),\n",
       " 14: array(['#novaccinepassports', '#enoughisenough',\n",
       "        '#novaccinepassportsanywhere', '#endthelockdown', '#kbf',\n",
       "        '#novaccinepassport', '#nomorelockdowns', '#leaveourkidsalone',\n",
       "        '#novaccinemandates', '#novaccinepassportanywhere',\n",
       "        '#endlockdownnow', '#endthelockdowns', '#takeoffyourmask',\n",
       "        '#nomandatoryvaccine', '#nomandatoryvaccines', '#nomasksinclass'],\n",
       "       dtype='<U37'),\n",
       " 15: array(['#fiqueemcasa', '#ficaemcasa', '#usemascara', '#quarentena',\n",
       "        '#usemáscara', '#bomdia'], dtype='<U37'),\n",
       " 16: array(['#vaccine', '#covidvaccine', '#vaccines', '#vaccinated',\n",
       "        '#covid19vaccine', '#moderna', '#vaccinations', '#covidvaccines',\n",
       "        '#pfizervaccine', '#johnsonandjohnson', '#pfizerbiontech',\n",
       "        '#covid19vaccines', '#modernavaccine', '#astrazenecavaccine',\n",
       "        '#oxfordastrazeneca', '#vaccinehesitancy', '#pfizercovidvaccine'],\n",
       "       dtype='<U37'),\n",
       " 17: array(['#staysafe', '#stayhomestaysafe', '#besafe', '#staysafestayhome',\n",
       "        '#staysafestayhealthy', '#wearmask'], dtype='<U37'),\n",
       " 18: array(['#hydroxychloroquine', '#ivermectin', '#hcq', '#vaxxed',\n",
       "        '#ivermectinworks', '#naturalimmunity', '#hydroxycloroquine',\n",
       "        '#vax', '#zelenkoprotocol', '#ivermectinsaveslives'], dtype='<U37'),\n",
       " 19: array(['#stimulus', '#stimuluscheck', '#stimuluschecks',\n",
       "        '#stimuluspackage', '#stimulusbill', '#stimuluschecksnow'],\n",
       "       dtype='<U37'),\n",
       " 20: array(['#employment', '#tax', '#businesses', '#employees', '#budget',\n",
       "        '#employee'], dtype='<U37'),\n",
       " 21: array(['#keyworkers', '#bristol', '#cornwall', '#bradford', '#devon',\n",
       "        '#cumbria', '#dorset', '#derbyshire', '#lincolnshire',\n",
       "        '#hampshire', '#exeter'], dtype='<U37'),\n",
       " 22: array(['#empresas', '#tecnología', '#tecnologia', '#pymes', '#negocios',\n",
       "        '#innovación'], dtype='<U37'),\n",
       " 23: array(['#25thamendment', '#constitutionovercoronavirus',\n",
       "        '#hydroxycholoroquine', '#11thhour', '#executiveorder',\n",
       "        '#trumpdeathtoll81k'], dtype='<U37'),\n",
       " 24: array(['#radicalescontralacovid19', '#luchacontralacovid19',\n",
       "        '#cuídatedelcovid19', '#flexibilizaciónconsciente',\n",
       "        '#preveniresvencer', '#evitaelcontagio', '#radicalcontralacovid19',\n",
       "        '#juntoscontralacovid19', '#aragua', '#activoscontraelvirus',\n",
       "        '#sputnikvcontracovid', '#prevenireslaclave', '#lacovidnoescoba',\n",
       "        '#todoscontraelvirus', '#sabemoscomohacerlo',\n",
       "        '#descuidarseescontagiarse', '#sucre', '#bioseguridadporlavida',\n",
       "        '#prevenciónenfamilia', '#frenaelcontagio',\n",
       "        '#flexibilizaciónparcial', '#lacovidnojuega', '#ivss',\n",
       "        '#cuarentenaradicalreforzada'], dtype='<U37'),\n",
       " 25: array(['#cdnpoli', '#onpoli', '#ableg', '#bcpoli', '#covid19ab',\n",
       "        '#abpoli', '#ontario', '#toronto', '#covid19ontario', '#yyc',\n",
       "        '#yeg', '#covid19canada', '#covid19bc', '#bced', '#elxn44',\n",
       "        '#onted', '#alberta', '#abhealth', '#trudeaumustgo', '#hamont',\n",
       "        '#ldnont', '#votefordout2022', '#covidcanada', '#covid19sk',\n",
       "        '#topoli', '#skpoli', '#vancouver', '#ltc', '#canpoli', '#bc',\n",
       "        '#healthequity', '#voteppc', '#abed', '#firetheucp', '#cdnhealth',\n",
       "        '#cdnmedia', '#covidzero', '#fordfailedthepeople', '#covidontario',\n",
       "        '#fordfailedontario', '#firelecce', '#covidbc', '#resignkenney',\n",
       "        '#ppc', '#nevervoteconservative', '#onhealth', '#covidab', '#ucp',\n",
       "        '#ygk', '#cpc', '#dougford', '#cndpoli', '#longtermcare',\n",
       "        '#canlab', '#trudeaucorruption', '#istandwithtrudeau', '#sdoh',\n",
       "        '#manitoba', '#trudeauvaccinefailure', '#paidsickdays',\n",
       "        '#trudeauworstpmever', '#yyccc', '#firekenney', '#safeseptember',\n",
       "        '#ttc', '#ndp', '#trudeaufailedcanada', '#covid19ns',\n",
       "        '#fordliedpeopledied', '#ontpoli', '#healthdisparities',\n",
       "        '#trudeaudictatorship', '#voteliberal', '#fordvaccinefailure',\n",
       "        '#ucpcorruption', '#yegcc', '#votetrudeauout', '#fordnation',\n",
       "        '#yorkregion', '#bcndp', '#medhat', '#resignhinshaw',\n",
       "        '#firebreakab', '#scarbto', '#trudeauvaccinefail', '#kenney',\n",
       "        '#elexn44'], dtype='<U37'),\n",
       " 26: array(['#mentalhealth', '#wellbeing', '#mentalhealthmatters',\n",
       "        '#resilience', '#mentalhealthawareness', '#inclusion',\n",
       "        '#innovative', '#partnership', '#inclusive', '#resilient',\n",
       "        '#innovations', '#monitoring', '#engineers', '#partnerships'],\n",
       "       dtype='<U37'),\n",
       " 27: array(['#cuba', '#cubaporlavida', '#soscuba', '#nicaragua', '#cubaviva',\n",
       "        '#cubasalvavidas', '#cubaporlasalud', '#somoscuba', '#cubacoopera',\n",
       "        '#somoscontinuidad', '#abdala', '#cubasalva', '#soberana02',\n",
       "        '#acubaponlecorazón', '#vacunandonospuebloquevence',\n",
       "        '#patriayvida', '#fidelporsiempre', '#viviremosyvenceremos',\n",
       "        '#eliminaelbloqueo', '#dezurdateam', '#ponlecorazón', '#cubamuere',\n",
       "        '#matanzas', '#cubaessalud', '#acubaponlecorazon', '#cienfuegos',\n",
       "        '#santiagodecuba', '#ciegodeavila', '#adelantesiempre',\n",
       "        '#pinardelrío', '#cubaesunadictadura', '#patriabenditaylibre',\n",
       "        '#héroesdelasalud', '#lahabana', '#cubamined', '#patriaomuerte',\n",
       "        '#soberanaplus', '#2021soberaniaenmitierra', '#bloqueo',\n",
       "        '#cubasoberana', '#cubanoestasola', '#ponlecorazon', '#guantánamo'],\n",
       "       dtype='<U37'),\n",
       " 28: array(['#flu', '#immunity', '#vitamind', '#immunesystem', '#antibodies',\n",
       "        '#pneumonia', '#antibody', '#symptoms', '#immunology', '#immune',\n",
       "        '#brain', '#crispr', '#rna'], dtype='<U37'),\n",
       " 29: array(['#iwd2021', '#gender', '#genderequality', '#generationequality',\n",
       "        '#womenleaders', '#genderequity', '#womeninleadership'],\n",
       "       dtype='<U37'),\n",
       " 30: array(['#china', '#wuhan', '#wuhanvirus', '#chinavirus', '#ccp',\n",
       "        '#wuhancoronavirus', '#chinesevirus', '#ccpvirus', '#hongkong',\n",
       "        '#chinaliedpeopledied', '#chinese', '#beijing', '#ccpchina',\n",
       "        '#xijinping', '#boycottchina', '#chinaliedandpeopledied',\n",
       "        '#bioweapon', '#chinamustpay', '#standwithhongkong', '#chinazi',\n",
       "        '#ccpliedpeopledied', '#shanghai', '#ccp_is_terrorist',\n",
       "        '#wuhancoronavius', '#makechinapay', '#wuhanlab', '#kungflu',\n",
       "        '#chinesewuhanvirus', '#hongkongprotests', '#wholiedpeopledied',\n",
       "        '#carrielam', '#china_is_terrorist', '#hongkongers', '#uyghurs',\n",
       "        '#uyghur', '#biowarfare', '#chinesecommunistparty', '#standwithhk',\n",
       "        '#biologicalwarfare'], dtype='<U37'),\n",
       " 31: array(['#california', '#nyc', '#losangeles', '#newjersey', '#la',\n",
       "        '#sanfrancisco', '#nj', '#massachusetts', '#maryland', '#bayarea'],\n",
       "       dtype='<U37'),\n",
       " 32: array(['#climatechange', '#climatecrisis', '#environment',\n",
       "        '#climateaction', '#climate', '#climateemergency',\n",
       "        '#greenrecovery', '#cop26', '#netzero', '#climateactionnow',\n",
       "        '#climatejustice', '#fossilfuels', '#fossilfuel',\n",
       "        '#parisagreement'], dtype='<U37'),\n",
       " 33: array(['#sustainability', '#energy', '#agriculture', '#sustainable',\n",
       "        '#farming', '#circulareconomy'], dtype='<U37'),\n",
       " 34: array(['#hereforyou', '#heretohelp', '#covidsecure', '#workingtogether',\n",
       "        '#makingadifference', '#communityengagement'], dtype='<U37'),\n",
       " 35: array(['#yahooニュース', '#smartnews', '#linenews', '#スマートニュース', '#ldnews',\n",
       "        '#yahooニュースのコメント', '#東洋経済オンライン'], dtype='<U37'),\n",
       " 36: array(['#longcovid', '#zerocovid', '#mecfs', '#covidisairborne',\n",
       "        '#longcovidkids', '#pwme', '#chronicillness', '#chronicpain',\n",
       "        '#neisvoid', '#myalgicencephalomyelitis', '#meawarenesshour',\n",
       "        '#pots'], dtype='<U37'),\n",
       " 37: array(['#pakistan', '#coronaviruspakistan', '#ncoc', '#karachi',\n",
       "        '#coronavirusinpakistan', '#imrankhan', '#coronainpakistan',\n",
       "        '#sindh', '#pmimrankhan', '#sindhgovt', '#ptigovernment',\n",
       "        '#imrankhanpti'], dtype='<U37'),\n",
       " 38: array(['#cancelboardexams2021', '#cancelboardexam2021', '#shafqatmehmood',\n",
       "        '#cancelcieexams2021', '#shafqatmahmood', '#cancelboards2021',\n",
       "        '#cancelexamssavestudents', '#internalassessment',\n",
       "        '#studentsboycottofflineexams', '#novoteforpti',\n",
       "        '#cancelboardexams', '#cancelcbseboards2021', '#boardexams2021',\n",
       "        '#examcancelhoga', '#cancelexamspakistan2021'], dtype='<U37'),\n",
       " 39: array(['#homeless', '#childcare', '#homelessness', '#foodinsecurity',\n",
       "        '#affordablehousing', '#housingcrisis'], dtype='<U37'),\n",
       " 40: array(['#furlough', '#selfemployed', '#hmrc', '#cjrs',\n",
       "        '#jobretentionscheme', '#seiss'], dtype='<U37'),\n",
       " 41: array(['#leavenoonebehind', '#gbv', '#16days', '#srhr', '#orangetheworld',\n",
       "        '#vaw'], dtype='<U37'),\n",
       " 42: array(['#education', '#school', '#children', '#schools', '#students',\n",
       "        '#teachers', '#edtech', '#highered', '#onlinelearning', '#parents',\n",
       "        '#remotelearning', '#edchat', '#college', '#elearning',\n",
       "        '#edutwitter', '#distancelearning', '#highereducation', '#k12',\n",
       "        '#universities', '#burnout', '#virtuallearning', '#digitaldivide',\n",
       "        '#sel', '#youngpeople', '#onlineeducation', '#broadband',\n",
       "        '#colleges', '#educators', '#send', '#earlyyears',\n",
       "        '#internationalstudents', '#olderpeople', '#remoteteaching',\n",
       "        '#cpd', '#ece', '#parentingtips', '#safeguarding', '#intled',\n",
       "        '#parentinginapandemic', '#ukedchat', '#lifelonglearning',\n",
       "        '#blendedlearning', '#pe'], dtype='<U37'),\n",
       " 43: array(['#quarantinelife', '#christmas', '#entertainment',\n",
       "        '#christmas2020', '#happynewyear2021', '#merrychristmas',\n",
       "        '#newyear', '#shoplocal', '#happynewyear', '#friday', '#holiday',\n",
       "        '#lockdownlife', '#movies', '#weekend', '#supportlocal', '#film',\n",
       "        '#holidays', '#sunday', '#newyear2021', '#monday', '#cycling',\n",
       "        '#pandemiclife', '#newyearseve', '#saturday', '#quaratinelife',\n",
       "        '#goodbye2020', '#happyholidays', '#tuesday',\n",
       "        '#supportsmallbusiness', '#running', '#movie', '#tgif',\n",
       "        '#quarentinelife', '#selfie', '#holidayseason', '#throwback',\n",
       "        '#outdoors', '#bored', '#garden', '#weekendvibes', '#staycation',\n",
       "        '#gardening', '#walking', '#mood', '#hair', '#familytime',\n",
       "        '#filmmaking', '#buylocal', '#memories', '#enjoy', '#actorslife',\n",
       "        '#supportsmallbusinesses', '#haircut', '#cheers', '#camping',\n",
       "        '#walk', '#openforbusiness', '#merrychristmas2020', '#shortfilm',\n",
       "        '#baking', '#roadtrip', '#bike', '#run', '#hiking', '#covidlife',\n",
       "        '#athome', '#summer2020', '#tattoo', '#feelgoodfriday',\n",
       "        '#nofilter', '#getoutside', '#supportlocalbusiness', '#acting',\n",
       "        '#summer2021', '#filmtwitter', '#drinks', '#eatlocal',\n",
       "        '#indiefilm', '#filmmaker', '#summertime', '#welcomeback'],\n",
       "       dtype='<U37'),\n",
       " 44: array(['#mondaythoughts', '#mondaymotivation', '#thursdaythoughts',\n",
       "        '#sundayvibes', '#tuesdaythoughts', '#fridaythoughts',\n",
       "        '#saturdaythoughts', '#sundaythoughts', '#fridaymorning',\n",
       "        '#fridayfeeling', '#thursdaymorning', '#thursdayvibes',\n",
       "        '#wednesdaywisdom', '#saturdaymorning', '#fridaymotivation',\n",
       "        '#wednesdaythought', '#tuesdayvibes', '#sundaymorning',\n",
       "        '#wednesdaythoughts', '#wednesdaymotivation',\n",
       "        '#thursdaymotivation', '#tuesdaymotivations', '#mondaymorning',\n",
       "        '#saturdaymotivation', '#tuesdayvibe', '#tuesdaymotivation',\n",
       "        '#wednesdaymorning', '#premierleague', '#bbnaija',\n",
       "        '#sundaymotivation', '#mondaymotivaton', '#fridayvibes',\n",
       "        '#saturdayvibes', '#greysanatomy', '#messi', '#grammys',\n",
       "        '#loveisland', '#ucl', '#championsleague', '#juventus',\n",
       "        '#blackwidow', '#epl', '#arsenal', '#ronaldo', '#freebritney',\n",
       "        '#cfc', '#wandavision', '#chelsea', '#instagramdown', '#laliga',\n",
       "        '#realmadrid', '#wonderwoman1984', '#mancity', '#halamadrid',\n",
       "        '#dynamite', '#mcfc', '#godzillavskong', '#genshinimpact',\n",
       "        '#harrystyles', '#whatif', '#bbcfootball', '#manchesterunited',\n",
       "        '#thesuicidesquad', '#spidermannowayhome', '#facup', '#snydercut',\n",
       "        '#bbnajia'], dtype='<U37'),\n",
       " 45: array(['#realestate', '#mortgage', '#housingmarket',\n",
       "        '#propertymanagement', '#mortgages', '#realestateinvesting',\n",
       "        '#homebuyers'], dtype='<U37'),\n",
       " 46: array(['#worldhealthday', '#fightcovid19', '#togetherwecan',\n",
       "        '#beatcovid19', '#wehealasone', '#worldhealthday2021',\n",
       "        '#laginghandaph', '#laginghanda'], dtype='<U37'),\n",
       " 47: array(['#stem', '#academictwitter', '#academicchatter', '#phdchat',\n",
       "        '#phd', '#phdlife', '#stemeducation'], dtype='<U37'),\n",
       " 48: array(['#scientists', '#drug', '#experts', '#evidence', '#scientist',\n",
       "        '#trial', '#scientific'], dtype='<U37'),\n",
       " 49: array(['#theatre', '#arts', '#livemusic', '#jazz', '#concert',\n",
       "        '#musicians', '#vinyl', '#concerts', '#countrymusic', '#blues'],\n",
       "       dtype='<U37'),\n",
       " 50: array(['#covid19sa', '#coronavirussa', '#lockdownsa', '#nationallockdown',\n",
       "        '#covid19insa', '#cyrilramaphosa', '#familymeeting', '#level5',\n",
       "        '#covid19southafrica', '#level3', '#level3lockdown',\n",
       "        '#level4lockdown', '#cyril', '#ramaphosa', '#christmasiscancelled',\n",
       "        '#tier5', '#level4', '#alcoholban', '#anc', '#djsbu',\n",
       "        '#shutdownsa', '#lockdownlevel3', '#ramaphosamustfall',\n",
       "        '#skeemsaam', '#level2'], dtype='<U37'),\n",
       " 51: array(['#life', '#hope', '#jesus', '#god', '#faith', '#goodnews',\n",
       "        '#prayer', '#pray', '#prayers'], dtype='<U37'),\n",
       " 52: array(['#副業', '#在宅ワーク', '#求人', '#高収入', '#日払い', '#ネットビジネス', '#個人融資',\n",
       "        '#バイト', '#資金調達', '#個人間融資', '#お金に困ってます', '#副業紹介', '#不労所得', '#ブラック',\n",
       "        '#お金に困っています', '#即日融資'], dtype='<U37'),\n",
       " 53: array(['#aviation', '#airlines', '#airport', '#flights', '#airports',\n",
       "        '#airline', '#airtravel', '#flight'], dtype='<U37'),\n",
       " 54: array(['#cricket', '#ipl2021', '#ipl2020', '#ipl', '#bcci', '#indveng',\n",
       "        '#ausvind', '#engvind', '#teamindia', '#indvseng', '#psl6',\n",
       "        '#indvsaus', '#rcb', '#engvsind', '#indvaus', '#t20worldcup'],\n",
       "       dtype='<U37'),\n",
       " 55: array(['#closetheschools', '#closeschoolsnow', '#schoolclosures',\n",
       "        '#schoolsreopeninguk', '#closetheschoolsnow', '#gavinwilliamson'],\n",
       "       dtype='<U37'),\n",
       " 56: array(['#first', '#overallnews', '#countries', '#trendsspy', '#irish',\n",
       "        '#south', '#million', '#high'], dtype='<U37'),\n",
       " 57: array(['#us', '#israel', '#russia', '#afghanistan', '#unitedstates',\n",
       "        '#syria', '#putin', '#iraq', '#palestine', '#gaza', '#taliban',\n",
       "        '#iranian', '#russian', '#israeli', '#moscow', '#afganistan',\n",
       "        '#palestinian', '#kurdistan', '#twitterkurds', '#jerusalem',\n",
       "        '#palestinians', '#idlib', '#netanyahu', '#talibans',\n",
       "        '#afghanistancrisis', '#afganisthan', '#afghanishtan'],\n",
       "       dtype='<U37'),\n",
       " 58: array(['#politics', '#government', '#police', '#crime', '#pm',\n",
       "        '#political', '#parliament', '#primeminister', '#politicians',\n",
       "        '#reality', '#govt', '#humantrafficking', '#citizens', '#illegal',\n",
       "        '#slavery', '#right'], dtype='<U37'),\n",
       " 59: array(['#bitcoin', '#crypto', '#blockchain', '#cryptocurrency', '#btc',\n",
       "        '#ethereum', '#binance', '#cryptocurrencies', '#defi', '#airdrop',\n",
       "        '#bsc', '#binancesmartchain'], dtype='<U37'),\n",
       " 60: array(['#biontech', '#dirumahaja', '#indonesia', '#korona',\n",
       "        '#lawancovid19', '#koronavirus', '#sondakika', '#koronavirüs',\n",
       "        '#aşı', '#haber', '#pandemi', '#pakaimasker', '#vaksin',\n",
       "        '#jagajarak', '#bersatulawancovid19', '#polripresisi', '#maske',\n",
       "        '#berita', '#türkiye', '#evdekal', '#haberler', '#vaksinasi',\n",
       "        '#beritaterkini', '#adaptasikebiasaanbaru', '#ppkm', '#bali',\n",
       "        '#gündem', '#sondaki̇ka', '#mutasyon', '#fahrettinkoca',\n",
       "        '#vaksincovid19', '#kovid19', '#covid19indonesia', '#sağlık',\n",
       "        '#pazartesi', '#ppkmdarurat', '#ankara', '#jakarta',\n",
       "        '#divisihumaspolri', '#cumartesi', '#pazar', '#jokowi',\n",
       "        '#pcrdayatmasıdurdurulsun', '#ingatpesanibu', '#izmir',\n",
       "        '#vaksinasicovid19', '#ayopakaimasker', '#protokolkesehatan',\n",
       "        '#jawatimurbangkit', '#cegahcovid19', '#turkovac',\n",
       "        '#sınavagelmiyorum', '#sağlıkbakanlığı', '#deprem', '#nasional',\n",
       "        '#fahrettinkocaistifa', '#satgascovid19', '#indonesiamaju',\n",
       "        '#bersamacegahcovid19', '#koronavirues', '#karantina',\n",
       "        '#i̇stanbul', '#divhumaspolri', '#patuhiprotokolkesehatan',\n",
       "        '#poldakalbar', '#carsamba', '#dkijakarta', '#salı',\n",
       "        '#vaksinasinasional', '#dirumahsaja', '#polripromoter',\n",
       "        '#cucitanganpakaisabun', '#masker', '#biontechyanetki', '#vaka',\n",
       "        '#ayovaksin', '#abd', '#biontechpfizer', '#sinavlariptalolsun',\n",
       "        '#polriuntukindonesia', '#bersamalawancovid19', '#lebaleb',\n",
       "        '#polricegahcorona', '#salgın', '#yasaklar', '#poldakaltim',\n",
       "        '#bersamalawancorona', '#gaziantep', '#mesafe',\n",
       "        '#coronavirusindonesia', '#ziyaselcukistifa', '#jawabarat',\n",
       "        '#polisiindonesia', '#cuma'], dtype='<U37'),\n",
       " 61: array(['#stocks', '#stockmarket', '#investing', '#stock', '#nasdaq',\n",
       "        '#stockstowatch', '#stockstobuy'], dtype='<U37'),\n",
       " 62: array(['#nfl', '#nba', '#mlb', '#browns', '#superbowl', '#titans',\n",
       "        '#steelers', '#yankees', '#ncaa', '#nbatwitter', '#marchmadness',\n",
       "        '#collegefootball', '#vikings', '#ravens', '#nfltwitter',\n",
       "        '#eagles', '#fantasyfootball', '#cowboys', '#packers', '#saints',\n",
       "        '#herewego', '#chiefs', '#dallascowboys', '#ravensflock',\n",
       "        '#seahawks', '#openingday', '#colts', '#cfb'], dtype='<U37'),\n",
       " 63: array(['#testing', '#hospitals', '#covidtesting', '#covid19testing',\n",
       "        '#covidtest', '#antibodytest', '#covid19test', '#hcw',\n",
       "        '#rapidtesting'], dtype='<U37'),\n",
       " 64: array(['#death', '#deaths', '#cases', '#positive', '#infected', '#dead',\n",
       "        '#will', '#negative', '#surge', '#die', '#dies', '#tested',\n",
       "        '#died', '#hospitalizations', '#dying', '#victims'], dtype='<U37'),\n",
       " 65: array(['#modiji_postponejeeneet', '#postponeneetandjee',\n",
       "        '#postponejee_neetincovid', '#studentslivesmatter',\n",
       "        '#postponejeeandneet', '#protestagainstexamsincovid',\n",
       "        '#swamyji_helpjeeneet', '#satyagrah_againstexamsincovid',\n",
       "        '#noexamsincovid', '#studentlivesmatter', '#postponejee_neetsept',\n",
       "        '#postponeneet', '#postponejee_neet', '#studentslivesmatters',\n",
       "        '#cancelcompartmentexam2020', '#healthoverexams',\n",
       "        '#postponejeeneet', '#indiaunitedtopostponejee_neet',\n",
       "        '#speakupforstudentsafety', '#surakshabeforepariksha',\n",
       "        '#ntapostponejee_neet', '#savejee_neetstudentspm',\n",
       "        '#cancelcompartment', '#postponeupsc_cse',\n",
       "        '#postponejeeneet_today', '#speakupforstudents',\n",
       "        '#cancelcompartmentexams2020', '#pleasepostponejee_neet',\n",
       "        '#postponeexams_or_resignmodi', '#ripsubhasri_save30lakh',\n",
       "        '#sopcantsavejee_neet', '#examsincovidasuicide', '#cancelallexams',\n",
       "        '#studentsinscforjustice', '#hrdpostponejee_neet',\n",
       "        '#healthoverneetjee', '#rise_againstexamsincovid',\n",
       "        '#rpsc_acf_postpone', '#jeefailedpostponeneet',\n",
       "        '#parentsdemandpostponeneet', '#mann_ki_nahi_students_ki_baat',\n",
       "        '#scpostponejee_neet', '#noexamsincovid19', '#ugcguidelines',\n",
       "        '#neet_jee', '#neetjeepostponekaro', '#hrdministry',\n",
       "        '#saynotougcguidelines', '#postponeneetjee', '#noexamincovid',\n",
       "        '#cancelmedicalexams', '#postponejee_neet_sept', '#cancelexams',\n",
       "        '#healthoverexam'], dtype='<U37'),\n",
       " 66: array(['#malaysia', '#fmtnews', '#cambodia', '#asean', '#nstnation',\n",
       "        '#mnow'], dtype='<U37'),\n",
       " 67: array(['#comedy', '#funny', '#humor', '#meme', '#jokes', '#memesdaily'],\n",
       "       dtype='<U37'),\n",
       " 68: array(['#kitajagakita', '#lindungdirilindungsemua', '#covid19malaysia',\n",
       "        '#kitateguhkitamenang', '#jabatanpenerangan', '#malaysiaprihatin',\n",
       "        '#sop', '#pkpp', '#kkm', '#sihatmilikku', '#pkpb', '#sabah'],\n",
       "       dtype='<U37'),\n",
       " 69: array(['#etsy', '#handmade', '#gifts', '#giftideas', '#tshirt',\n",
       "        '#etsyshop'], dtype='<U37'),\n",
       " 70: array(['#news', '#worldnews', '#reuters', '#cnbc', '#economictimes',\n",
       "        '#timesofindia', '#infowars', '#thehindu', '#moneycontrol'],\n",
       "       dtype='<U37'),\n",
       " 71: array(['#japan', '#tokyo2020', '#olympics', '#tokyo', '#tokyoolympics',\n",
       "        '#japanese', '#paralympics', '#ioc', '#olympicgames', '#olympic',\n",
       "        '#stoptokyoolympics', '#olympics2020', '#olympics2021',\n",
       "        '#tokyo2021', '#canceltheolympics'], dtype='<U37'),\n",
       " 72: array(['#uae', '#saudiarabia', '#dubai', '#lebanon', '#egypt', '#bahrain',\n",
       "        '#jordan', '#saudi', '#abudhabi', '#emirates'], dtype='<U37'),\n",
       " 73: array(['#endsars', '#endswat', '#endpolicebrutality', '#endsarsnow',\n",
       "        '#endbadgoveranceinnigeria', '#endbadgovernanceinnigeria',\n",
       "        '#lekkimassacre', '#sarsmustend'], dtype='<U37'),\n",
       " 74: array(['#2020', '#2021', '#show', '#normal', '#studio', '#long'],\n",
       "       dtype='<U37'),\n",
       " 75: array(['#autism', '#adhd', '#autistic', '#autismawareness',\n",
       "        '#actuallyautistic', '#asd'], dtype='<U37'),\n",
       " 76: array(['#โคว', '#หน', '#ว', '#ช', '#ร', '#ม', '#ส', '#ล', '#ไวร', '#ข',\n",
       "        '#พร', '#น', '#mewsuppasit', '#อ', '#gulfkanawut', '#ตลาดน',\n",
       "        '#สถานการณ', '#ฉ', '#ผ', '#ศ', '#thaipbs', '#ก', '#ท', '#ค', '#ด',\n",
       "        '#ไฟเซอร', '#เป', '#ประย', '#เร', '#พ', '#กองท', '#ต', '#ป', '#บ',\n",
       "        '#ทวงpfizerให', '#ไม', '#จ', '#thaipbsnews', '#ไทยร', '#นะจ', '#ถ',\n",
       "        '#thestandardnews', '#ฝ'], dtype='<U37'),\n",
       " 77: array(['#africa', '#kenya', '#uganda', '#zimbabwe', '#tanzania',\n",
       "        '#somalia', '#african', '#zambia', '#sudan', '#nairobi',\n",
       "        '#somaliland', '#kot'], dtype='<U37'),\n",
       " 78: array(['#youtube', '#tiktok', '#socialmedia', '#twitter', '#facebook',\n",
       "        '#youtuber', '#tweet'], dtype='<U37'),\n",
       " 79: array(['#writingcommunity', '#poetry', '#books', '#amwriting', '#writing',\n",
       "        '#reading', '#writers', '#book', '#writer', '#read', '#poem',\n",
       "        '#haiku', '#amreading', '#kindleunlimited', '#writerscommunity',\n",
       "        '#bookreview', '#poems', '#readingcommunity', '#poet'],\n",
       "       dtype='<U37'),\n",
       " 80: array(['#gold', '#oil', '#oott', '#crudeoil', '#opec', '#wti', '#crude'],\n",
       "       dtype='<U37'),\n",
       " 81: array(['#euro2020', '#wimbledon', '#eng', '#euro2020final', '#euro2021',\n",
       "        '#princephilip'], dtype='<U37'),\n",
       " 82: array(['#twitch', '#fortnite', '#twitchstreamer', '#warzone',\n",
       "        '#supportsmallstreamers', '#twitchaffiliate', '#callofduty',\n",
       "        '#smallstreamer', '#twitchstreamers', '#apexlegends',\n",
       "        '#smallstreamersconnect'], dtype='<U37'),\n",
       " 83: array(['#nhl', '#hockey', '#canucks', '#gohabsgo', '#habs',\n",
       "        '#hockeytwitter', '#wethenorth'], dtype='<U37'),\n",
       " 84: array(['#kcamexico', '#cnco', '#cncowners', '#joaquinbondoni',\n",
       "        '#auronplay', '#morat'], dtype='<U37'),\n",
       " 85: array(['#recognizeartsakh', '#stopazerbaijaniaggression', '#stopaliyev',\n",
       "        '#sanctionturkey', '#stoperdogan', '#artsakhstrong',\n",
       "        '#peaceforarmenians'], dtype='<U37'),\n",
       " 86: array(['#2019ncov', '#outbreak', '#protests', '#ncov', '#knowthefacts',\n",
       "        '#cashoftynews', '#covid19korea', '#justthenews', '#bhnasional'],\n",
       "       dtype='<U37'),\n",
       " 87: array(['#fitness', '#gym', '#workout', '#weightloss', '#diet',\n",
       "        '#fitnessmotivation', '#weightlossjourney'], dtype='<U37'),\n",
       " 88: array(['#nft', '#nfts', '#nftart', '#nftcommunity', '#nftcollector',\n",
       "        '#cryptoart', '#tezos'], dtype='<U37'),\n",
       " 89: array(['#svpol', '#covid19sverige', '#coronasverige', '#covid19sweden',\n",
       "        '#coronavirussverige', '#coronasweden', '#coronavirussweden',\n",
       "        '#tegnell'], dtype='<U37'),\n",
       " 90: array(['#ethiopia', '#tigray', '#tigraygenocide', '#eritrea', '#tplf',\n",
       "        '#stopwarontigray'], dtype='<U37'),\n",
       " 91: array(['#war', '#religion', '#terrorism', '#isis', '#terrorists',\n",
       "        '#terrorist'], dtype='<U37'),\n",
       " 92: array(['#koronawirus', '#szczepimysię', '#koronawiruswpolsce',\n",
       "        '#szczepionka', '#szczepimysie', '#polska', '#szczepienia', '#pis',\n",
       "        '#wieszwięcej', '#koronawiruspolska', '#zajob'], dtype='<U37'),\n",
       " 93: array(['#tamaulipas', '#tampico', '#cdvictoria', '#reynosa', '#matamoros',\n",
       "        '#altamira', '#nuevolaredo'], dtype='<U37'),\n",
       " 94: array(['#onlyfans', '#gay', '#sex', '#sexy', '#ass', '#findom',\n",
       "        '#onlyfansgirl', '#milf', '#bdsm', '#girl', '#onlyfansbabe',\n",
       "        '#sellingcontent', '#onlyfanspromo', '#femdom', '#cum', '#boobs',\n",
       "        '#nude', '#paypig', '#bbw', '#booty', '#incest', '#taboo', '#cock',\n",
       "        '#hotwife', '#daddy', '#mistress', '#find', '#fetish'],\n",
       "       dtype='<U37'),\n",
       " 95: array(['#icaiexams', '#icai', '#caexams', '#icaiexam',\n",
       "        '#justiceforca_students', '#postponecaexams',\n",
       "        '#icai_denies_justice', '#icai_denies_equality',\n",
       "        '#icaiexampostponement', '#icai_denies_safety', '#caexam'],\n",
       "       dtype='<U37'),\n",
       " 96: array(['#limengyan', '#drlimengyan1', '#unrestrictedbioweapon',\n",
       "        '#drlimengyan', '#takedowntheccp', '#whistleblowermovement',\n",
       "        '#爆料革命'], dtype='<U37'),\n",
       " 97: array(['#covid19gr', '#κορωνοιος', '#εμβολιο', '#κορονοιος',\n",
       "        '#εμβολιασμος', '#κρουσματα', '#εμβολιασμοι', '#κορωνοϊός',\n",
       "        '#κορονοϊός', '#εμβολια', '#εμβόλιο', '#κυβερνηση_μητσοτακη',\n",
       "        '#ελλάδα', '#ant1news', '#ελλαδα', '#εμβολιασμός',\n",
       "        '#κυβερνηση_τσιρκο', '#ανεμβολιαστοι', '#lockdown2gr'],\n",
       "       dtype='<U37'),\n",
       " 98: array(['#coronarvirus', '#coronarovirus', '#coronoavirus',\n",
       "        '#coronavirius', '#coronavius', '#coronarivus', '#coronaravirus',\n",
       "        '#coronavavirus'], dtype='<U37'),\n",
       " 99: array(['#коронавирус', '#новости', '#россия', '#новини', '#украина',\n",
       "        '#вакцинация', '#вакцина', '#пандемия'], dtype='<U37'),\n",
       " 100: array(['#infolalin', '#jujurberkendara', '#jujurdijalan', '#dishubjabar',\n",
       "        '#lalinjabar', '#infoll'], dtype='<U37'),\n",
       " 101: array(['#todaysmedicalupdate', '#thelegallowdown',\n",
       "        '#bankingandfinancenews', '#laborlaw', '#corporatelaw',\n",
       "        '#cyberlaw', '#caselaw', '#voteofnoconfidence',\n",
       "        '#regionalsecurity'], dtype='<U37'),\n",
       " 102: array(['#listenlive', '#awokoradio', '#nowonair', '#tuneinnow',\n",
       "        '#jradio917fm', '#nowplayingonstarfm', '#teddiizzle',\n",
       "        '#isstarfmbabey', '#ghostinnovations'], dtype='<U37'),\n",
       " 103: array(['#1', '#2', '#s', '#3', '#4', '#5', '#6', '#7', '#10', '#19', '#9',\n",
       "        '#8', '#12', '#11', '#13', '#15', '#20', '#17', '#14', '#18',\n",
       "        '#25', '#24', '#21', '#50', '#23', '#30', '#26', '#33'],\n",
       "       dtype='<U37'),\n",
       " 104: array(['#dutertepalpak', '#oustdutertenow', '#duqueresign',\n",
       "        '#oustduterte', '#duterteresign', '#masstestingnowph',\n",
       "        '#halalan2022', '#letlenilead'], dtype='<U37'),\n",
       " 105: array(['#ニュース', '#北海道', '#ビジネス', '#海外ニュース', '#海外科学', '#ニュース速報', '#金融'],\n",
       "       dtype='<U37'),\n",
       " 106: array(['#essaypay', '#essayhelp', '#essaydue', '#assignments', '#pay',\n",
       "        '#homework', '#essay', '#assignment', '#essays', '#homeworkslave',\n",
       "        '#coursework'], dtype='<U37'),\n",
       " 107: array(['#myanmar', '#myanmarneedso2', '#july11coup', '#myanmarcovidsos',\n",
       "        '#july10coup', '#july17coup', '#dreadfulcovidamidmilitarycoup',\n",
       "        '#milkteaalliance', '#sacwantscoviduncontrollable', '#savemyanmar',\n",
       "        '#july12coup', '#recognizenug', '#ourgovernmentnug',\n",
       "        '#acceptnug_rejectmilitary', '#hearthevoiceofmyanmar', '#mandalay',\n",
       "        '#july14coup', '#july15coup', '#july18coup'], dtype='<U37'),\n",
       " 108: array(['#biblia', '#ricardoclaurepeñaloza', '#profecias',\n",
       "        '#sinfoniascelestiales', '#salvarelalmahastadelultimohombre',\n",
       "        '#33añosdeministerio'], dtype='<U37'),\n",
       " 109: array(['#covid19', '#covid', '#covidー19', '#covid_19', '#covd19',\n",
       "        '#convid19', '#codvid19', '#corvid19', '#covi19', '#covid10'],\n",
       "       dtype='<U37'),\n",
       " 110: array(['#mosca', '#donnaimpresa', '#dimagazine', '#donazioni',\n",
       "        '#chinetown', '#時尚', '#捐款'], dtype='<U37'),\n",
       " 111: array(['#drongovaccinealert', '#年金', '#リフレ', '#twittalk', '#マスク売り切れ',\n",
       "        '#タウンワーク', '#マスク買えない'], dtype='<U37'),\n",
       " 112: array(['#bbmp', '#punecovishield', '#mumbaicovishield', '#mumbaicovaxin',\n",
       "        '#punecovaxin', '#thanecovishield', '#thanecovaxin',\n",
       "        '#gurgaoncovaxin', '#bangaloreurban'], dtype='<U37'),\n",
       " 113: array(['#richardbranson', '#larryellison', '#larrypage', '#michaeldell',\n",
       "        '#markbenioff', '#riedhoffman'], dtype='<U37'),\n",
       " 114: array(['#ncyt', '#odx', '#avct', '#gdr', '#novacyt', '#sng', '#rms',\n",
       "        '#tils', '#brh', '#alnov'], dtype='<U37'),\n",
       " 115: array(['#cannabis', '#marijuana', '#cbd', '#cannabiscommunity', '#weed',\n",
       "        '#hemp', '#thc', '#cbdoil', '#cannabisnews'], dtype='<U37'),\n",
       " 116: array(['#teampnp', '#weserveandprotect', '#pnpkakampimo',\n",
       "        '#pnpkakampimolabansacovid19', '#toserveandprotect',\n",
       "        '#teamcalabarzon', '#pnp', '#pulisngpilipino',\n",
       "        '#pnppatrolplan2030'], dtype='<U37'),\n",
       " 117: array(['#코로나19', '#코로나', '#신천지', '#섹트', '#3차', '#혈장공여', '#백신', '#생명',\n",
       "        '#혈장치료제', '#알바', '#4천명', '#중국', '#말씀광장', '#신천지예수교회', '#코로나치료제',\n",
       "        '#일탈', '#확진자', '#재난문자'], dtype='<U37')}"
      ]
     },
     "execution_count": 17,
     "metadata": {},
     "output_type": "execute_result"
    }
   ],
   "source": [
    "topics[0]"
   ]
  },
  {
   "cell_type": "code",
   "execution_count": null,
   "id": "dressed-narrative",
   "metadata": {},
   "outputs": [],
   "source": [
    "topics = pkl.load('/')"
   ]
  },
  {
   "cell_type": "code",
   "execution_count": 2,
   "id": "atomic-birthday",
   "metadata": {},
   "outputs": [
    {
     "name": "stdout",
     "output_type": "stream",
     "text": [
      "Step 3/5 : Computing topics, dumping in /scratch/hartley/twitter_covid_insights_small/insights_All/topics.pkl\n"
     ]
    },
    {
     "name": "stderr",
     "output_type": "stream",
     "text": [
      "100%|██████████| 500/500 [00:54<00:00,  9.23it/s]\n"
     ]
    },
    {
     "ename": "Exception",
     "evalue": "Not enough data to find significant topics",
     "output_type": "error",
     "traceback": [
      "\u001b[0;31m---------------------------------------------------------------------------\u001b[0m",
      "\u001b[0;31mException\u001b[0m                                 Traceback (most recent call last)",
      "\u001b[0;32m<ipython-input-2-9607bf359d4c>\u001b[0m in \u001b[0;36m<module>\u001b[0;34m\u001b[0m\n\u001b[1;32m      4\u001b[0m \u001b[0;32melse\u001b[0m \u001b[0;34m:\u001b[0m\u001b[0;34m\u001b[0m\u001b[0;34m\u001b[0m\u001b[0m\n\u001b[1;32m      5\u001b[0m     \u001b[0mprint\u001b[0m\u001b[0;34m(\u001b[0m\u001b[0;34mf\"Step 3/5 : Computing topics, dumping in {topics_path}\"\u001b[0m\u001b[0;34m)\u001b[0m\u001b[0;34m\u001b[0m\u001b[0;34m\u001b[0m\u001b[0m\n\u001b[0;32m----> 6\u001b[0;31m     \u001b[0mfind_topics\u001b[0m\u001b[0;34m(\u001b[0m\u001b[0mmodel\u001b[0m\u001b[0;34m,\u001b[0m \u001b[0mword_counts\u001b[0m\u001b[0;34m,\u001b[0m \u001b[0mtopics_path\u001b[0m\u001b[0;34m,\u001b[0m \u001b[0mmax_absorption\u001b[0m\u001b[0;34m=\u001b[0m\u001b[0;36m100\u001b[0m\u001b[0;34m,\u001b[0m \u001b[0mmin_clust_size\u001b[0m\u001b[0;34m=\u001b[0m\u001b[0;36m5\u001b[0m\u001b[0;34m,\u001b[0m \u001b[0mgrowth_path\u001b[0m\u001b[0;34m=\u001b[0m\u001b[0mgrowth_path\u001b[0m\u001b[0;34m)\u001b[0m\u001b[0;34m\u001b[0m\u001b[0;34m\u001b[0m\u001b[0m\n\u001b[0m",
      "\u001b[0;32m/scratch/hartley/Topics_Visualization/paper_code/scripts/hash_utils.py\u001b[0m in \u001b[0;36mfind_topics\u001b[0;34m(model, word_counts, topics_path, max_absorption, min_clust_size, growth_path)\u001b[0m\n\u001b[1;32m    229\u001b[0m     \u001b[0mtopics\u001b[0m \u001b[0;34m=\u001b[0m \u001b[0mmultiscale_dbscan\u001b[0m\u001b[0;34m(\u001b[0m\u001b[0mmodel\u001b[0m\u001b[0;34m,\u001b[0m \u001b[0mword_counts\u001b[0m\u001b[0;34m,\u001b[0m \u001b[0;32mNone\u001b[0m\u001b[0;34m,\u001b[0m \u001b[0mmax_absorption\u001b[0m\u001b[0;34m,\u001b[0m \u001b[0mmin_clust_size\u001b[0m\u001b[0;34m,\u001b[0m \u001b[0mgrowth_path\u001b[0m\u001b[0;34m)\u001b[0m\u001b[0;34m\u001b[0m\u001b[0;34m\u001b[0m\u001b[0m\n\u001b[1;32m    230\u001b[0m     \u001b[0;32mif\u001b[0m \u001b[0mlen\u001b[0m\u001b[0;34m(\u001b[0m\u001b[0mtopics\u001b[0m\u001b[0;34m)\u001b[0m \u001b[0;34m==\u001b[0m \u001b[0;36m0\u001b[0m \u001b[0;34m:\u001b[0m\u001b[0;34m\u001b[0m\u001b[0;34m\u001b[0m\u001b[0m\n\u001b[0;32m--> 231\u001b[0;31m         \u001b[0;32mraise\u001b[0m \u001b[0mException\u001b[0m\u001b[0;34m(\u001b[0m\u001b[0;34m'Not enough data to find significant topics'\u001b[0m\u001b[0;34m)\u001b[0m\u001b[0;34m\u001b[0m\u001b[0;34m\u001b[0m\u001b[0m\n\u001b[0m\u001b[1;32m    232\u001b[0m     \u001b[0;31m#print('TOPICS :', topics)\u001b[0m\u001b[0;34m\u001b[0m\u001b[0;34m\u001b[0m\u001b[0;34m\u001b[0m\u001b[0m\n\u001b[1;32m    233\u001b[0m     \u001b[0membs\u001b[0m \u001b[0;34m=\u001b[0m \u001b[0mnp\u001b[0m\u001b[0;34m.\u001b[0m\u001b[0marray\u001b[0m\u001b[0;34m(\u001b[0m\u001b[0;34m[\u001b[0m\u001b[0mnp\u001b[0m\u001b[0;34m.\u001b[0m\u001b[0mmean\u001b[0m\u001b[0;34m(\u001b[0m\u001b[0mmodel\u001b[0m\u001b[0;34m.\u001b[0m\u001b[0mwv\u001b[0m\u001b[0;34m[\u001b[0m\u001b[0mt\u001b[0m\u001b[0;34m]\u001b[0m\u001b[0;34m,\u001b[0m \u001b[0maxis\u001b[0m\u001b[0;34m=\u001b[0m\u001b[0;36m0\u001b[0m\u001b[0;34m)\u001b[0m \u001b[0;32mfor\u001b[0m \u001b[0mt\u001b[0m \u001b[0;32min\u001b[0m \u001b[0mtopics\u001b[0m\u001b[0;34m]\u001b[0m\u001b[0;34m)\u001b[0m\u001b[0;34m\u001b[0m\u001b[0;34m\u001b[0m\u001b[0m\n",
      "\u001b[0;31mException\u001b[0m: Not enough data to find significant topics"
     ]
    }
   ],
   "source": [
    "########### Topics creation ############\n",
    "if topics_computed and not force_compute :\n",
    "    print(\"Step 3/5 : Topics were already computed\")\n",
    "else :\n",
    "    print(f\"Step 3/5 : Computing topics, dumping in {topics_path}\")\n",
    "    find_topics(model, word_counts, topics_path, max_absorption=100, min_clust_size=5, growth_path=growth_path)"
   ]
  },
  {
   "cell_type": "code",
   "execution_count": 24,
   "id": "drawn-turner",
   "metadata": {},
   "outputs": [],
   "source": [
    "import nltk"
   ]
  },
  {
   "cell_type": "code",
   "execution_count": 27,
   "id": "acute-honor",
   "metadata": {},
   "outputs": [
    {
     "name": "stderr",
     "output_type": "stream",
     "text": [
      "[nltk_data] Downloading package punkt to /home/hartley/nltk_data...\n",
      "[nltk_data]   Unzipping tokenizers/punkt.zip.\n"
     ]
    },
    {
     "data": {
      "text/plain": [
       "True"
      ]
     },
     "execution_count": 27,
     "metadata": {},
     "output_type": "execute_result"
    }
   ],
   "source": [
    "import nltk\n",
    "import ssl\n",
    "\n",
    "try:\n",
    "    _create_unverified_https_context = ssl._create_unverified_context\n",
    "except AttributeError:\n",
    "    pass\n",
    "else:\n",
    "    ssl._create_default_https_context = _create_unverified_https_context\n",
    "\n",
    "nltk.download('punkt')"
   ]
  },
  {
   "cell_type": "code",
   "execution_count": 42,
   "id": "revised-florida",
   "metadata": {},
   "outputs": [
    {
     "ename": "TypeError",
     "evalue": "'numpy.ndarray' object is not callable",
     "output_type": "error",
     "traceback": [
      "\u001b[0;31m---------------------------------------------------------------------------\u001b[0m",
      "\u001b[0;31mTypeError\u001b[0m                                 Traceback (most recent call last)",
      "\u001b[0;32m<ipython-input-42-1d6fce2f2606>\u001b[0m in \u001b[0;36m<module>\u001b[0;34m\u001b[0m\n\u001b[0;32m----> 1\u001b[0;31m \u001b[0mmodel\u001b[0m\u001b[0;34m.\u001b[0m\u001b[0mwv\u001b[0m\u001b[0;34m.\u001b[0m\u001b[0mvectors\u001b[0m\u001b[0;34m(\u001b[0m\u001b[0;34m)\u001b[0m\u001b[0;34m\u001b[0m\u001b[0;34m\u001b[0m\u001b[0m\n\u001b[0m",
      "\u001b[0;31mTypeError\u001b[0m: 'numpy.ndarray' object is not callable"
     ]
    }
   ],
   "source": [
    "model.wv."
   ]
  },
  {
   "cell_type": "code",
   "execution_count": 39,
   "id": "textile-mainstream",
   "metadata": {},
   "outputs": [
    {
     "data": {
      "text/plain": [
       "(300, 3371)"
      ]
     },
     "execution_count": 39,
     "metadata": {},
     "output_type": "execute_result"
    }
   ],
   "source": [
    "model.wv.vectors.transpose().shape"
   ]
  },
  {
   "cell_type": "code",
   "execution_count": 3,
   "id": "color-rachel",
   "metadata": {},
   "outputs": [
    {
     "name": "stdout",
     "output_type": "stream",
     "text": [
      "0    0\n",
      "1    0\n",
      "2    1\n",
      "3    2\n",
      "dtype: int32\n"
     ]
    }
   ],
   "source": [
    "import cudf\n",
    "from cuml.cluster import DBSCAN\n",
    "\n",
    "# Create and populate a GPU DataFrame\n",
    "x = cudf.DataFrame()\n",
    "x['0'] = [1.0, 2.0, 5.0, 4]\n",
    "x['1'] = [2.0, 2.0, 1.0, 4]\n",
    "# Setup and fit clusters\n",
    "x = DBSCAN(eps=1.0, min_samples=1).fit(x)\n",
    "print(x.labels_)"
   ]
  },
  {
   "cell_type": "code",
   "execution_count": 11,
   "id": "ancient-romance",
   "metadata": {},
   "outputs": [
    {
     "data": {
      "text/plain": [
       "DBSCAN()"
      ]
     },
     "execution_count": 11,
     "metadata": {},
     "output_type": "execute_result"
    }
   ],
   "source": [
    "dbscan_float"
   ]
  },
  {
   "cell_type": "code",
   "execution_count": 6,
   "id": "generic-tissue",
   "metadata": {},
   "outputs": [
    {
     "name": "stdout",
     "output_type": "stream",
     "text": [
      "# conda environments:\n",
      "#\n",
      "base                     /opt/conda\n",
      "                      *  /scratch/hartley/rapids-21.10\n",
      "\n",
      "\n",
      "Note: you may need to restart the kernel to use updated packages.\n"
     ]
    }
   ],
   "source": [
    "conda env list"
   ]
  },
  {
   "cell_type": "code",
   "execution_count": 8,
   "id": "previous-washer",
   "metadata": {},
   "outputs": [
    {
     "name": "stdout",
     "output_type": "stream",
     "text": [
      "\n",
      "CommandNotFoundError: Your shell has not been properly configured to use 'conda activate'.\n",
      "To initialize your shell, run\n",
      "\n",
      "    $ conda init <SHELL_NAME>\n",
      "\n",
      "Currently supported shells are:\n",
      "  - bash\n",
      "  - fish\n",
      "  - tcsh\n",
      "  - xonsh\n",
      "  - zsh\n",
      "  - powershell\n",
      "\n",
      "See 'conda init --help' for more information and options.\n",
      "\n",
      "IMPORTANT: You may need to close and restart your shell after running 'conda init'.\n",
      "\n",
      "\n",
      "\n",
      "Note: you may need to restart the kernel to use updated packages.\n"
     ]
    }
   ],
   "source": [
    "conda activate /scratch/hartley/rapids-21.10"
   ]
  },
  {
   "cell_type": "code",
   "execution_count": 9,
   "id": "grand-voltage",
   "metadata": {},
   "outputs": [
    {
     "name": "stdout",
     "output_type": "stream",
     "text": [
      "# packages in environment at /opt/conda:\r\n",
      "#\r\n",
      "# Name                    Version                   Build  Channel\r\n",
      "_libgcc_mutex             0.1                        main  \r\n",
      "absl-py                   0.12.0                   pypi_0    pypi\r\n",
      "appdirs                   1.4.4                    pypi_0    pypi\r\n",
      "argon2-cffi               20.1.0           py38h27cfd23_1  \r\n",
      "astroid                   2.5.2                    pypi_0    pypi\r\n",
      "astunparse                1.6.3                    pypi_0    pypi\r\n",
      "async_generator           1.10               pyhd3eb1b0_0  \r\n",
      "attrs                     20.3.0             pyhd3eb1b0_0  \r\n",
      "backcall                  0.2.0              pyhd3eb1b0_0  \r\n",
      "black                     20.8b1                   pypi_0    pypi\r\n",
      "blas                      1.0                         mkl  \r\n",
      "bleach                    3.3.0              pyhd3eb1b0_0  \r\n",
      "brotlipy                  0.7.0           py38h27cfd23_1003  \r\n",
      "ca-certificates           2021.1.19            h06a4308_1  \r\n",
      "cachetools                4.2.1                    pypi_0    pypi\r\n",
      "certifi                   2020.12.5        py38h06a4308_0  \r\n",
      "cffi                      1.14.3           py38h261ae71_2  \r\n",
      "chardet                   3.0.4           py38h06a4308_1003  \r\n",
      "chex                      0.0.6                    pypi_0    pypi\r\n",
      "click                     7.1.2                    pypi_0    pypi\r\n",
      "conda                     4.9.2            py38h06a4308_0  \r\n",
      "conda-package-handling    1.7.2            py38h03888b9_0  \r\n",
      "cryptography              3.2.1            py38h3c74f83_1  \r\n",
      "cudatoolkit               11.0.221             h6bb024c_0  \r\n",
      "cycler                    0.10.0                   pypi_0    pypi\r\n",
      "dbus                      1.13.18              hb2f20db_0  \r\n",
      "decorator                 4.4.2              pyhd3eb1b0_0  \r\n",
      "defusedxml                0.7.1              pyhd3eb1b0_0  \r\n",
      "dill                      0.3.3                    pypi_0    pypi\r\n",
      "dm-haiku                  0.0.4.dev0               pypi_0    pypi\r\n",
      "dm-tree                   0.1.5                    pypi_0    pypi\r\n",
      "entrypoints               0.3                      py38_0  \r\n",
      "expat                     2.3.0                h2531618_2  \r\n",
      "flatbuffers               1.12                     pypi_0    pypi\r\n",
      "fontconfig                2.13.1               h6c09931_0  \r\n",
      "freetype                  2.10.4               h5ab3b9f_0  \r\n",
      "future                    0.18.2                   pypi_0    pypi\r\n",
      "gast                      0.3.3                    pypi_0    pypi\r\n",
      "glib                      2.68.0               h36276a3_0  \r\n",
      "google-auth               1.28.0                   pypi_0    pypi\r\n",
      "google-auth-oauthlib      0.4.3                    pypi_0    pypi\r\n",
      "google-pasta              0.2.0                    pypi_0    pypi\r\n",
      "googleapis-common-protos  1.53.0                   pypi_0    pypi\r\n",
      "grpcio                    1.32.0                   pypi_0    pypi\r\n",
      "gst-plugins-base          1.14.0               h8213a91_2  \r\n",
      "gstreamer                 1.14.0               h28cd5cc_2  \r\n",
      "h5py                      2.10.0                   pypi_0    pypi\r\n",
      "icu                       58.2                 he6710b0_3  \r\n",
      "idna                      2.10                       py_0  \r\n",
      "importlib-metadata        3.7.3            py38h06a4308_1  \r\n",
      "importlib-resources       5.1.2                    pypi_0    pypi\r\n",
      "importlib_metadata        3.7.3                hd3eb1b0_1  \r\n",
      "intel-openmp              2020.2                      254  \r\n",
      "ipykernel                 5.3.4            py38h5ca1d4c_0  \r\n",
      "ipython                   7.21.0           py38hb070fc8_0  \r\n",
      "ipython_genutils          0.2.0              pyhd3eb1b0_1  \r\n",
      "ipywidgets                7.6.3              pyhd3eb1b0_1  \r\n",
      "isort                     5.8.0                    pypi_0    pypi\r\n",
      "jax                       0.2.11                   pypi_0    pypi\r\n",
      "jaxlib                    0.1.64+cuda110           pypi_0    pypi\r\n",
      "jedi                      0.17.0                   py38_0  \r\n",
      "jinja2                    2.11.3             pyhd3eb1b0_0  \r\n",
      "joblib                    1.0.1                    pypi_0    pypi\r\n",
      "jpeg                      9b                   h024ee3a_2  \r\n",
      "jsonschema                3.2.0                      py_2  \r\n",
      "jupyter                   1.0.0                    py38_7  \r\n",
      "jupyter_client            6.1.7                      py_0  \r\n",
      "jupyter_console           6.3.0              pyhd3eb1b0_0  \r\n",
      "jupyter_core              4.7.1            py38h06a4308_0  \r\n",
      "jupyterlab_pygments       0.1.2                      py_0  \r\n",
      "jupyterlab_widgets        1.0.0              pyhd3eb1b0_1  \r\n",
      "keras-preprocessing       1.1.2                    pypi_0    pypi\r\n",
      "kiwisolver                1.3.1                    pypi_0    pypi\r\n",
      "kubernetes                12.0.1                   pypi_0    pypi\r\n",
      "lazy-object-proxy         1.6.0                    pypi_0    pypi\r\n",
      "lcms2                     2.11                 h396b838_0  \r\n",
      "ld_impl_linux-64          2.33.1               h53a641e_7  \r\n",
      "libedit                   3.1.20191231         h14c3975_1  \r\n",
      "libffi                    3.3                  he6710b0_2  \r\n",
      "libgcc-ng                 9.1.0                hdf63c60_0  \r\n",
      "libgfortran-ng            7.3.0                hdf63c60_0  \r\n",
      "libpng                    1.6.37               hbc83047_0  \r\n",
      "libsodium                 1.0.18               h7b6447c_0  \r\n",
      "libstdcxx-ng              9.1.0                hdf63c60_0  \r\n",
      "libtiff                   4.2.0                h85742a9_0  \r\n",
      "libuuid                   1.0.3                h1bed415_2  \r\n",
      "libuv                     1.40.0               h7b6447c_0  \r\n",
      "libwebp-base              1.2.0                h27cfd23_0  \r\n",
      "libxcb                    1.14                 h7b6447c_0  \r\n",
      "libxml2                   2.9.10               hb55368b_3  \r\n",
      "lmdb                      1.1.1                    pypi_0    pypi\r\n",
      "lz4-c                     1.9.3                h2531618_0  \r\n",
      "markdown                  3.3.4                    pypi_0    pypi\r\n",
      "markupsafe                1.1.1            py38h7b6447c_0  \r\n",
      "matplotlib                3.4.1                    pypi_0    pypi\r\n",
      "mccabe                    0.6.1                    pypi_0    pypi\r\n",
      "mistune                   0.8.4           py38h7b6447c_1000  \r\n",
      "mkl                       2020.2                      256  \r\n",
      "mkl-service               2.3.0            py38he904b0f_0  \r\n",
      "mkl_fft                   1.3.0            py38h54f3939_0  \r\n",
      "mkl_random                1.1.1            py38h0573a6f_0  \r\n",
      "mypy-extensions           0.4.3                    pypi_0    pypi\r\n",
      "nbclient                  0.5.3              pyhd3eb1b0_0  \r\n",
      "nbconvert                 6.0.7                    py38_0  \r\n",
      "nbformat                  5.1.2              pyhd3eb1b0_1  \r\n",
      "ncurses                   6.2                  he6710b0_1  \r\n",
      "nest-asyncio              1.5.1              pyhd3eb1b0_0  \r\n",
      "networkx                  2.5                      pypi_0    pypi\r\n",
      "ninja                     1.10.2           py38hff7bd54_0  \r\n",
      "notebook                  6.3.0            py38h06a4308_0  \r\n",
      "numpy                     1.19.2           py38h54aff64_0  \r\n",
      "numpy-base                1.19.2           py38hfa32c7d_0  \r\n",
      "oauthlib                  3.1.0                    pypi_0    pypi\r\n",
      "olefile                   0.46                       py_0  \r\n",
      "opencv-python             4.5.1.48                 pypi_0    pypi\r\n",
      "openssl                   1.1.1k               h27cfd23_0  \r\n",
      "opt-einsum                3.3.0                    pypi_0    pypi\r\n",
      "optax                     0.0.6                    pypi_0    pypi\r\n",
      "packaging                 20.9               pyhd3eb1b0_0  \r\n",
      "pandas                    1.2.3            py38ha9443f7_0  \r\n",
      "pandoc                    2.12                 h06a4308_0  \r\n",
      "pandocfilters             1.4.3            py38h06a4308_1  \r\n",
      "parso                     0.8.1              pyhd3eb1b0_0  \r\n",
      "pathspec                  0.8.1                    pypi_0    pypi\r\n",
      "pcre                      8.44                 he6710b0_0  \r\n",
      "pexpect                   4.8.0              pyhd3eb1b0_3  \r\n",
      "pickleshare               0.7.5           pyhd3eb1b0_1003  \r\n",
      "pillow                    8.1.2            py38he98fc37_0  \r\n",
      "pillow-simd               7.0.0.post3              pypi_0    pypi\r\n",
      "pip                       20.2.4           py38h06a4308_0  \r\n",
      "prometheus_client         0.9.0              pyhd3eb1b0_0  \r\n",
      "promise                   2.3                      pypi_0    pypi\r\n",
      "prompt-toolkit            3.0.17             pyh06a4308_0  \r\n",
      "prompt_toolkit            3.0.17               hd3eb1b0_0  \r\n",
      "protobuf                  3.15.6                   pypi_0    pypi\r\n",
      "ptyprocess                0.7.0              pyhd3eb1b0_2  \r\n",
      "pyasn1                    0.4.8                    pypi_0    pypi\r\n",
      "pyasn1-modules            0.2.8                    pypi_0    pypi\r\n",
      "pycosat                   0.6.3            py38h7b6447c_1  \r\n",
      "pycparser                 2.20                       py_2  \r\n",
      "pygments                  2.8.1              pyhd3eb1b0_0  \r\n",
      "pylint                    2.7.4                    pypi_0    pypi\r\n",
      "pyopenssl                 19.1.0             pyhd3eb1b0_1  \r\n",
      "pyparsing                 2.4.7              pyhd3eb1b0_0  \r\n",
      "pyqt                      5.9.2            py38h05f1152_4  \r\n",
      "pyrsistent                0.17.3           py38h7b6447c_0  \r\n",
      "pysocks                   1.7.1            py38h06a4308_0  \r\n",
      "python                    3.8.5                h7579374_1  \r\n",
      "python-dateutil           2.8.1              pyhd3eb1b0_0  \r\n",
      "pytorch                   1.7.1           py3.8_cuda11.0.221_cudnn8.0.5_0    pytorch\r\n",
      "pytz                      2021.1             pyhd3eb1b0_0  \r\n",
      "pyyaml                    5.4.1                    pypi_0    pypi\r\n",
      "pyzmq                     20.0.0           py38h2531618_1  \r\n",
      "qt                        5.9.7                h5867ecd_1  \r\n",
      "qtconsole                 5.0.3              pyhd3eb1b0_0  \r\n",
      "qtpy                      1.9.0                      py_0  \r\n",
      "readline                  8.0                  h7b6447c_0  \r\n",
      "regex                     2021.3.17                pypi_0    pypi\r\n",
      "requests                  2.24.0                     py_0  \r\n",
      "requests-oauthlib         1.3.0                    pypi_0    pypi\r\n",
      "rsa                       4.7.2                    pypi_0    pypi\r\n",
      "ruamel_yaml               0.15.87          py38h7b6447c_1  \r\n",
      "scikit-learn              0.24.1                   pypi_0    pypi\r\n",
      "scipy                     1.6.2            py38h91f5cce_0  \r\n",
      "seaborn                   0.11.1                   pypi_0    pypi\r\n",
      "send2trash                1.5.0              pyhd3eb1b0_1  \r\n",
      "setuptools                50.3.1           py38h06a4308_1  \r\n",
      "sip                       4.19.13          py38he6710b0_0  \r\n",
      "six                       1.15.0           py38h06a4308_0  \r\n",
      "sklearn                   0.0                      pypi_0    pypi\r\n",
      "sqlite                    3.33.0               h62c20be_0  \r\n",
      "tabulate                  0.8.9                    pypi_0    pypi\r\n",
      "tensorboard               2.4.1                    pypi_0    pypi\r\n",
      "tensorboard-plugin-wit    1.8.0                    pypi_0    pypi\r\n",
      "tensorflow                2.4.1                    pypi_0    pypi\r\n",
      "tensorflow-datasets       4.2.0                    pypi_0    pypi\r\n",
      "tensorflow-estimator      2.4.0                    pypi_0    pypi\r\n",
      "tensorflow-metadata       0.29.0                   pypi_0    pypi\r\n",
      "termcolor                 1.1.0                    pypi_0    pypi\r\n",
      "terminado                 0.9.3            py38h06a4308_0  \r\n",
      "testpath                  0.4.4              pyhd3eb1b0_0  \r\n",
      "threadpoolctl             2.1.0                    pypi_0    pypi\r\n",
      "tk                        8.6.10               hbc83047_0  \r\n",
      "toml                      0.10.2                   pypi_0    pypi\r\n",
      "toolz                     0.11.1                   pypi_0    pypi\r\n",
      "torchaudio                0.7.2                      py38    pytorch\r\n",
      "torchvision               0.8.2                py38_cu110    pytorch\r\n",
      "tornado                   6.1              py38h27cfd23_0  \r\n",
      "tqdm                      4.51.0             pyhd3eb1b0_0  \r\n",
      "traitlets                 5.0.5              pyhd3eb1b0_0  \r\n",
      "typed-ast                 1.4.2                    pypi_0    pypi\r\n",
      "typing_extensions         3.7.4.3            pyha847dfd_0  \r\n",
      "urllib3                   1.25.11                    py_0  \r\n",
      "wcwidth                   0.2.5                      py_0  \r\n",
      "webencodings              0.5.1                    py38_1  \r\n",
      "websocket-client          0.58.0                   pypi_0    pypi\r\n",
      "werkzeug                  1.0.1                    pypi_0    pypi\r\n",
      "wheel                     0.35.1             pyhd3eb1b0_0  \r\n",
      "widgetsnbextension        3.5.1                    py38_0  \r\n",
      "wrapt                     1.12.1                   pypi_0    pypi\r\n",
      "xz                        5.2.5                h7b6447c_0  \r\n",
      "yaml                      0.2.5                h7b6447c_0  \r\n",
      "zeromq                    4.3.4                h2531618_0  \r\n",
      "zipp                      3.4.1              pyhd3eb1b0_0  \r\n",
      "zlib                      1.2.11               h7b6447c_3  \r\n",
      "zstd                      1.4.5                h9ceee32_0  \r\n"
     ]
    },
    {
     "name": "stdout",
     "output_type": "stream",
     "text": [
      "\n",
      "Note: you may need to restart the kernel to use updated packages.\n"
     ]
    }
   ],
   "source": [
    "conda list"
   ]
  }
 ],
 "metadata": {
  "kernelspec": {
   "display_name": "rapids-21.10",
   "language": "python",
   "name": "rapids-21.10"
  },
  "language_info": {
   "codemirror_mode": {
    "name": "ipython",
    "version": 3
   },
   "file_extension": ".py",
   "mimetype": "text/x-python",
   "name": "python",
   "nbconvert_exporter": "python",
   "pygments_lexer": "ipython3",
   "version": "3.7.10"
  }
 },
 "nbformat": 4,
 "nbformat_minor": 5
}
