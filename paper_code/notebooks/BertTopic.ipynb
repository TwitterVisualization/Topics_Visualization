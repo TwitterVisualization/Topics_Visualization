{
 "cells": [
  {
   "cell_type": "code",
   "execution_count": null,
   "id": "a7587f1f",
   "metadata": {},
   "outputs": [
    {
     "name": "stdout",
     "output_type": "stream",
     "text": [
      "Defaulting to user installation because normal site-packages is not writeable\n",
      "Collecting bertopic==0.9.3\n",
      "  Downloading bertopic-0.9.3-py2.py3-none-any.whl (57 kB)\n",
      "\u001b[K     |████████████████████████████████| 57 kB 1.1 MB/s eta 0:00:011\n",
      "\u001b[?25hRequirement already satisfied: umap-learn>=0.5.0 in /home/raileanu/.local/lib/python3.8/site-packages (from bertopic==0.9.3) (0.5.2)\n",
      "Collecting plotly<4.14.3,>=4.7.0\n",
      "  Downloading plotly-4.14.2-py2.py3-none-any.whl (13.2 MB)\n",
      "\u001b[K     |████████████████████████████████| 13.2 MB 9.8 MB/s eta 0:00:01\n",
      "\u001b[?25hRequirement already satisfied: hdbscan>=0.8.27 in /home/raileanu/.local/lib/python3.8/site-packages (from bertopic==0.9.3) (0.8.27)\n",
      "Requirement already satisfied: pandas>=1.1.5 in /opt/conda/lib/python3.8/site-packages (from bertopic==0.9.3) (1.2.3)\n",
      "Requirement already satisfied: scikit-learn>=0.22.2.post1 in /opt/conda/lib/python3.8/site-packages (from bertopic==0.9.3) (0.24.1)\n",
      "Requirement already satisfied: sentence-transformers>=0.4.1 in /home/raileanu/.local/lib/python3.8/site-packages (from bertopic==0.9.3) (2.1.0)\n",
      "Requirement already satisfied: tqdm>=4.41.1 in /opt/conda/lib/python3.8/site-packages (from bertopic==0.9.3) (4.51.0)\n",
      "Requirement already satisfied: numpy>=1.20.0 in /home/raileanu/.local/lib/python3.8/site-packages (from bertopic==0.9.3) (1.21.1)\n",
      "Requirement already satisfied: pyyaml<6.0 in /opt/conda/lib/python3.8/site-packages (from bertopic==0.9.3) (5.4.1)\n",
      "Requirement already satisfied: pynndescent>=0.5 in /home/raileanu/.local/lib/python3.8/site-packages (from umap-learn>=0.5.0->bertopic==0.9.3) (0.5.5)\n",
      "Requirement already satisfied: scipy>=1.0 in /opt/conda/lib/python3.8/site-packages (from umap-learn>=0.5.0->bertopic==0.9.3) (1.6.2)\n",
      "Requirement already satisfied: numba>=0.49 in /home/raileanu/.local/lib/python3.8/site-packages (from umap-learn>=0.5.0->bertopic==0.9.3) (0.53.1)\n",
      "Collecting retrying>=1.3.3\n",
      "  Downloading retrying-1.3.3.tar.gz (10 kB)\n",
      "Requirement already satisfied: six in /opt/conda/lib/python3.8/site-packages (from plotly<4.14.3,>=4.7.0->bertopic==0.9.3) (1.15.0)\n",
      "Requirement already satisfied: joblib>=1.0 in /opt/conda/lib/python3.8/site-packages (from hdbscan>=0.8.27->bertopic==0.9.3) (1.0.1)\n",
      "Requirement already satisfied: cython>=0.27 in /home/raileanu/.local/lib/python3.8/site-packages (from hdbscan>=0.8.27->bertopic==0.9.3) (0.29.26)\n",
      "Requirement already satisfied: python-dateutil>=2.7.3 in /opt/conda/lib/python3.8/site-packages (from pandas>=1.1.5->bertopic==0.9.3) (2.8.1)\n",
      "Requirement already satisfied: pytz>=2017.3 in /opt/conda/lib/python3.8/site-packages (from pandas>=1.1.5->bertopic==0.9.3) (2021.1)\n",
      "Requirement already satisfied: threadpoolctl>=2.0.0 in /opt/conda/lib/python3.8/site-packages (from scikit-learn>=0.22.2.post1->bertopic==0.9.3) (2.1.0)\n",
      "Requirement already satisfied: torch>=1.6.0 in /opt/conda/lib/python3.8/site-packages (from sentence-transformers>=0.4.1->bertopic==0.9.3) (1.7.1)\n",
      "Requirement already satisfied: sentencepiece in /home/raileanu/.local/lib/python3.8/site-packages (from sentence-transformers>=0.4.1->bertopic==0.9.3) (0.1.96)\n",
      "Requirement already satisfied: nltk in /home/raileanu/.local/lib/python3.8/site-packages (from sentence-transformers>=0.4.1->bertopic==0.9.3) (3.6.5)\n",
      "Requirement already satisfied: tokenizers>=0.10.3 in /home/raileanu/.local/lib/python3.8/site-packages (from sentence-transformers>=0.4.1->bertopic==0.9.3) (0.10.3)\n",
      "Requirement already satisfied: torchvision in /opt/conda/lib/python3.8/site-packages (from sentence-transformers>=0.4.1->bertopic==0.9.3) (0.8.2)\n",
      "Requirement already satisfied: huggingface-hub in /home/raileanu/.local/lib/python3.8/site-packages (from sentence-transformers>=0.4.1->bertopic==0.9.3) (0.2.1)\n",
      "Requirement already satisfied: transformers<5.0.0,>=4.6.0 in /home/raileanu/.local/lib/python3.8/site-packages (from sentence-transformers>=0.4.1->bertopic==0.9.3) (4.14.1)\n",
      "Requirement already satisfied: llvmlite>=0.30 in /home/raileanu/.local/lib/python3.8/site-packages (from pynndescent>=0.5->umap-learn>=0.5.0->bertopic==0.9.3) (0.36.0)\n",
      "Requirement already satisfied: setuptools in /opt/conda/lib/python3.8/site-packages (from numba>=0.49->umap-learn>=0.5.0->bertopic==0.9.3) (50.3.1.post20201107)\n",
      "Requirement already satisfied: typing_extensions in /opt/conda/lib/python3.8/site-packages (from torch>=1.6.0->sentence-transformers>=0.4.1->bertopic==0.9.3) (3.7.4.3)\n",
      "Requirement already satisfied: click in /opt/conda/lib/python3.8/site-packages (from nltk->sentence-transformers>=0.4.1->bertopic==0.9.3) (7.1.2)\n",
      "Requirement already satisfied: regex>=2021.8.3 in /home/raileanu/.local/lib/python3.8/site-packages (from nltk->sentence-transformers>=0.4.1->bertopic==0.9.3) (2021.11.10)\n",
      "Requirement already satisfied: pillow>=4.1.1 in /opt/conda/lib/python3.8/site-packages (from torchvision->sentence-transformers>=0.4.1->bertopic==0.9.3) (8.1.2)\n",
      "Requirement already satisfied: requests in /opt/conda/lib/python3.8/site-packages (from huggingface-hub->sentence-transformers>=0.4.1->bertopic==0.9.3) (2.24.0)\n",
      "Requirement already satisfied: filelock in /home/raileanu/.local/lib/python3.8/site-packages (from huggingface-hub->sentence-transformers>=0.4.1->bertopic==0.9.3) (3.4.0)\n",
      "Requirement already satisfied: packaging>=20.9 in /opt/conda/lib/python3.8/site-packages (from huggingface-hub->sentence-transformers>=0.4.1->bertopic==0.9.3) (20.9)\n",
      "Requirement already satisfied: sacremoses in /home/raileanu/.local/lib/python3.8/site-packages (from transformers<5.0.0,>=4.6.0->sentence-transformers>=0.4.1->bertopic==0.9.3) (0.0.46)\n",
      "Requirement already satisfied: urllib3!=1.25.0,!=1.25.1,<1.26,>=1.21.1 in /opt/conda/lib/python3.8/site-packages (from requests->huggingface-hub->sentence-transformers>=0.4.1->bertopic==0.9.3) (1.25.11)\n",
      "Requirement already satisfied: idna<3,>=2.5 in /opt/conda/lib/python3.8/site-packages (from requests->huggingface-hub->sentence-transformers>=0.4.1->bertopic==0.9.3) (2.10)\n",
      "Requirement already satisfied: chardet<4,>=3.0.2 in /opt/conda/lib/python3.8/site-packages (from requests->huggingface-hub->sentence-transformers>=0.4.1->bertopic==0.9.3) (3.0.4)\n",
      "Requirement already satisfied: certifi>=2017.4.17 in /opt/conda/lib/python3.8/site-packages (from requests->huggingface-hub->sentence-transformers>=0.4.1->bertopic==0.9.3) (2020.12.5)\n",
      "Requirement already satisfied: pyparsing>=2.0.2 in /opt/conda/lib/python3.8/site-packages (from packaging>=20.9->huggingface-hub->sentence-transformers>=0.4.1->bertopic==0.9.3) (2.4.7)\n",
      "Building wheels for collected packages: retrying\n",
      "  Building wheel for retrying (setup.py) ... \u001b[?25ldone\n",
      "\u001b[?25h  Created wheel for retrying: filename=retrying-1.3.3-py3-none-any.whl size=11429 sha256=37947eef28916a71e9e1bbee90c65f18a1db1d84f3a24d417d7f9bc2cff70964\n",
      "  Stored in directory: /home/raileanu/.cache/pip/wheels/c4/a7/48/0a434133f6d56e878ca511c0e6c38326907c0792f67b476e56\n",
      "Successfully built retrying\n",
      "Installing collected packages: retrying, plotly, bertopic\n",
      "  Attempting uninstall: plotly\n",
      "    Found existing installation: plotly 5.4.0\n"
     ]
    }
   ],
   "source": [
    "!pip install bertopic==0.9.3"
   ]
  },
  {
   "cell_type": "code",
   "execution_count": null,
   "id": "b40ee4e0",
   "metadata": {},
   "outputs": [],
   "source": [
    "from bertopic import BERTopic"
   ]
  },
  {
   "cell_type": "code",
   "execution_count": 9,
   "id": "common-belfast",
   "metadata": {},
   "outputs": [
    {
     "name": "stdout",
     "output_type": "stream",
     "text": [
      "Defaulting to user installation because normal site-packages is not writeable\n",
      "Requirement already satisfied: numpy==1.21.1 in /home/raileanu/.local/lib/python3.8/site-packages (1.21.1)\n",
      "Defaulting to user installation because normal site-packages is not writeable\n",
      "Requirement already satisfied: numba==0.53.1 in /home/raileanu/.local/lib/python3.8/site-packages (0.53.1)\n",
      "Requirement already satisfied: setuptools in /opt/conda/lib/python3.8/site-packages (from numba==0.53.1) (50.3.1.post20201107)\n",
      "Requirement already satisfied: llvmlite<0.37,>=0.36.0rc1 in /home/raileanu/.local/lib/python3.8/site-packages (from numba==0.53.1) (0.36.0)\n",
      "Requirement already satisfied: numpy>=1.15 in /home/raileanu/.local/lib/python3.8/site-packages (from numba==0.53.1) (1.21.1)\n",
      "Defaulting to user installation because normal site-packages is not writeable\n",
      "\u001b[31mERROR: Could not find a version that satisfies the requirement umap==0.5.1 (from versions: 0.1.macosx-10.5-x86_64, 0.1.1.macosx-10.5-x86_64, 0.1, 0.1.1)\u001b[0m\n",
      "\u001b[31mERROR: No matching distribution found for umap==0.5.1\u001b[0m\n"
     ]
    }
   ],
   "source": []
  },
  {
   "cell_type": "code",
   "execution_count": null,
   "id": "bcfd221f",
   "metadata": {},
   "outputs": [],
   "source": [
    "!pip show numpy"
   ]
  },
  {
   "cell_type": "code",
   "execution_count": 13,
   "id": "lucky-diamond",
   "metadata": {},
   "outputs": [
    {
     "name": "stdout",
     "output_type": "stream",
     "text": [
      "\r\n",
      "CommandNotFoundError: Your shell has not been properly configured to use 'conda activate'.\r\n",
      "To initialize your shell, run\r\n",
      "\r\n",
      "    $ conda init <SHELL_NAME>\r\n",
      "\r\n",
      "Currently supported shells are:\r\n",
      "  - bash\r\n",
      "  - fish\r\n",
      "  - tcsh\r\n",
      "  - xonsh\r\n",
      "  - zsh\r\n",
      "  - powershell\r\n",
      "\r\n",
      "See 'conda init --help' for more information and options.\r\n",
      "\r\n",
      "IMPORTANT: You may need to close and restart your shell after running 'conda init'.\r\n",
      "\r\n",
      "\r\n"
     ]
    }
   ],
   "source": []
  },
  {
   "cell_type": "code",
   "execution_count": 12,
   "id": "mineral-parks",
   "metadata": {},
   "outputs": [
    {
     "name": "stdout",
     "output_type": "stream",
     "text": [
      "no change     /opt/conda/condabin/conda\r\n",
      "no change     /opt/conda/bin/conda\r\n",
      "no change     /opt/conda/bin/conda-env\r\n",
      "no change     /opt/conda/bin/activate\r\n",
      "no change     /opt/conda/bin/deactivate\r\n",
      "no change     /opt/conda/etc/profile.d/conda.sh\r\n",
      "no change     /opt/conda/etc/fish/conf.d/conda.fish\r\n",
      "no change     /opt/conda/shell/condabin/Conda.psm1\r\n",
      "no change     /opt/conda/shell/condabin/conda-hook.ps1\r\n",
      "no change     /opt/conda/lib/python3.8/site-packages/xontrib/conda.xsh\r\n",
      "no change     /opt/conda/etc/profile.d/conda.csh\r\n",
      "no change     /home/raileanu/.bashrc\r\n",
      "No action taken.\r\n"
     ]
    }
   ],
   "source": []
  },
  {
   "cell_type": "code",
   "execution_count": null,
   "id": "twenty-burns",
   "metadata": {},
   "outputs": [],
   "source": []
  }
 ],
 "metadata": {
  "kernelspec": {
   "display_name": "Python 3",
   "language": "python",
   "name": "python3"
  },
  "language_info": {
   "codemirror_mode": {
    "name": "ipython",
    "version": 3
   },
   "file_extension": ".py",
   "mimetype": "text/x-python",
   "name": "python",
   "nbconvert_exporter": "python",
   "pygments_lexer": "ipython3",
   "version": "3.8.5"
  }
 },
 "nbformat": 4,
 "nbformat_minor": 5
}
