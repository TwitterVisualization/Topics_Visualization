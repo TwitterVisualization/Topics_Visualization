{
 "cells": [
  {
   "cell_type": "code",
   "execution_count": 11,
   "metadata": {},
   "outputs": [],
   "source": [
    "import pandas as pd\n",
    "import os\n",
    "import sys\n",
    "\n",
    "#cur_file  = os.path.dirname(os.path.realpath(__file__))\n",
    "cur_file = '/home/hartley/Topics_Visualization/paper_code/notebooks'\n",
    "sys.path.append(os.path.join(cur_file, '../scripts'))\n",
    "from laser_embedder import laser_embed_texts"
   ]
  },
  {
   "cell_type": "markdown",
   "metadata": {},
   "source": [
    "## Config"
   ]
  },
  {
   "cell_type": "code",
   "execution_count": 15,
   "metadata": {},
   "outputs": [],
   "source": [
    "dataset_path = '/mlo-container-scratch/massemin/sentiment140'\n",
    "train_path = os.path.join(dataset_path, 'train.csv')\n",
    "embeddings_path  = '/mlo-container-scratch/hartley/sentiment140/laser_embs_two.py'\n",
    "force_compute = True"
   ]
  },
  {
   "cell_type": "markdown",
   "metadata": {},
   "source": [
    "## Build sentiment140 embeddings"
   ]
  },
  {
   "cell_type": "code",
   "execution_count": 16,
   "metadata": {},
   "outputs": [],
   "source": [
    "# Load files\n",
    "columns = [\"label\", \"id\", \"date\", \"is_query\", \"user_name\", \"text\"]\n",
    "sentiments = pd.read_csv(train_path, encoding = \"ISO-8859-1\", header=None, names=columns)[[\"label\", \"text\"]]\n",
    "sentiments.label.replace(4, 1, inplace=True)\n",
    "\n",
    "# Generate embeddings for LASER\n",
    "if force_compute or not os.path.isfile(embeddings_path) :\n",
    "    laser_embs = laser_embed_texts(sentiments.text, \"en\")\n",
    "else :\n",
    "    with open(embeddings_path, 'rb') as f:\n",
    "        laser_embs = np.load(f)"
   ]
  },
  {
   "cell_type": "code",
   "execution_count": 18,
   "metadata": {},
   "outputs": [],
   "source": [
    "laser_embs"
   ]
  }
 ],
 "metadata": {
  "kernelspec": {
   "display_name": "Python 3",
   "language": "python",
   "name": "python3"
  },
  "language_info": {
   "codemirror_mode": {
    "name": "ipython",
    "version": 3
   },
   "file_extension": ".py",
   "mimetype": "text/x-python",
   "name": "python",
   "nbconvert_exporter": "python",
   "pygments_lexer": "ipython3",
   "version": "3.7.4"
  }
 },
 "nbformat": 4,
 "nbformat_minor": 2
}
